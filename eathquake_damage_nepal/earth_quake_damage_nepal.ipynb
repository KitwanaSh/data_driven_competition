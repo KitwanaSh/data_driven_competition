{
 "cells": [
  {
   "cell_type": "markdown",
   "metadata": {},
   "source": [
    "# Predict The Earth Quake Damages Level In Nepal"
   ]
  },
  {
   "cell_type": "markdown",
   "metadata": {},
   "source": [
    "We're trying to predict the ordinal variable damage_grade, which represents a level of damage to the building that was hit by the earthquake. There are 3 grades of the damage:\n",
    "\n",
    "- 1 represents low damage\n",
    "- 2 represents a medium amount of damage\n",
    "- 3 represents almost complete destruction"
   ]
  },
  {
   "cell_type": "code",
   "execution_count": 134,
   "metadata": {},
   "outputs": [
    {
     "name": "stdout",
     "output_type": "stream",
     "text": [
      "Done in 10 seconds\n"
     ]
    }
   ],
   "source": [
    "# Import libraries\n",
    "import pandas as pd\n",
    "import numpy as np\n",
    "\n",
    "import matplotlib.pyplot as plt\n",
    "import seaborn as sns\n",
    "\n",
    "import pickle\n",
    "\n",
    "from category_encoders import OrdinalEncoder, OneHotEncoder\n",
    "\n",
    "import lightgbm as lgb\n",
    "\n",
    "\n",
    "from sklearn.model_selection import train_test_split\n",
    "from sklearn.pipeline import make_pipeline\n",
    "from sklearn.metrics import make_scorer, f1_score, confusion_matrix, ConfusionMatrixDisplay, classification_report\n",
    "from sklearn.dummy import DummyClassifier\n",
    "\n",
    "import optuna\n",
    "from sklearn.model_selection import cross_val_score\n",
    "\n",
    "print(f\"Done in {np.count_nonzero([1,2,3, 4, 5, 6, 7, 8, 9, 10])} seconds\")"
   ]
  },
  {
   "cell_type": "markdown",
   "metadata": {},
   "source": [
    "### Load data"
   ]
  },
  {
   "cell_type": "code",
   "execution_count": 2,
   "metadata": {},
   "outputs": [],
   "source": [
    "# load data\n",
    "train_values = pd.read_csv('./data/train_values.csv')\n",
    "train_labels = pd.read_csv('./data/train_labels.csv')\n",
    "test_values = pd.read_csv('./data/test_values.csv')"
   ]
  },
  {
   "cell_type": "code",
   "execution_count": 3,
   "metadata": {},
   "outputs": [
    {
     "name": "stdout",
     "output_type": "stream",
     "text": [
      "(260601, 39)\n"
     ]
    },
    {
     "data": {
      "application/vnd.microsoft.datawrangler.viewer.v0+json": {
       "columns": [
        {
         "name": "index",
         "rawType": "int64",
         "type": "integer"
        },
        {
         "name": "building_id",
         "rawType": "int64",
         "type": "integer"
        },
        {
         "name": "geo_level_1_id",
         "rawType": "int64",
         "type": "integer"
        },
        {
         "name": "geo_level_2_id",
         "rawType": "int64",
         "type": "integer"
        },
        {
         "name": "geo_level_3_id",
         "rawType": "int64",
         "type": "integer"
        },
        {
         "name": "count_floors_pre_eq",
         "rawType": "int64",
         "type": "integer"
        },
        {
         "name": "age",
         "rawType": "int64",
         "type": "integer"
        },
        {
         "name": "area_percentage",
         "rawType": "int64",
         "type": "integer"
        },
        {
         "name": "height_percentage",
         "rawType": "int64",
         "type": "integer"
        },
        {
         "name": "land_surface_condition",
         "rawType": "object",
         "type": "string"
        },
        {
         "name": "foundation_type",
         "rawType": "object",
         "type": "string"
        },
        {
         "name": "roof_type",
         "rawType": "object",
         "type": "string"
        },
        {
         "name": "ground_floor_type",
         "rawType": "object",
         "type": "string"
        },
        {
         "name": "other_floor_type",
         "rawType": "object",
         "type": "string"
        },
        {
         "name": "position",
         "rawType": "object",
         "type": "string"
        },
        {
         "name": "plan_configuration",
         "rawType": "object",
         "type": "string"
        },
        {
         "name": "has_superstructure_adobe_mud",
         "rawType": "int64",
         "type": "integer"
        },
        {
         "name": "has_superstructure_mud_mortar_stone",
         "rawType": "int64",
         "type": "integer"
        },
        {
         "name": "has_superstructure_stone_flag",
         "rawType": "int64",
         "type": "integer"
        },
        {
         "name": "has_superstructure_cement_mortar_stone",
         "rawType": "int64",
         "type": "integer"
        },
        {
         "name": "has_superstructure_mud_mortar_brick",
         "rawType": "int64",
         "type": "integer"
        },
        {
         "name": "has_superstructure_cement_mortar_brick",
         "rawType": "int64",
         "type": "integer"
        },
        {
         "name": "has_superstructure_timber",
         "rawType": "int64",
         "type": "integer"
        },
        {
         "name": "has_superstructure_bamboo",
         "rawType": "int64",
         "type": "integer"
        },
        {
         "name": "has_superstructure_rc_non_engineered",
         "rawType": "int64",
         "type": "integer"
        },
        {
         "name": "has_superstructure_rc_engineered",
         "rawType": "int64",
         "type": "integer"
        },
        {
         "name": "has_superstructure_other",
         "rawType": "int64",
         "type": "integer"
        },
        {
         "name": "legal_ownership_status",
         "rawType": "object",
         "type": "string"
        },
        {
         "name": "count_families",
         "rawType": "int64",
         "type": "integer"
        },
        {
         "name": "has_secondary_use",
         "rawType": "int64",
         "type": "integer"
        },
        {
         "name": "has_secondary_use_agriculture",
         "rawType": "int64",
         "type": "integer"
        },
        {
         "name": "has_secondary_use_hotel",
         "rawType": "int64",
         "type": "integer"
        },
        {
         "name": "has_secondary_use_rental",
         "rawType": "int64",
         "type": "integer"
        },
        {
         "name": "has_secondary_use_institution",
         "rawType": "int64",
         "type": "integer"
        },
        {
         "name": "has_secondary_use_school",
         "rawType": "int64",
         "type": "integer"
        },
        {
         "name": "has_secondary_use_industry",
         "rawType": "int64",
         "type": "integer"
        },
        {
         "name": "has_secondary_use_health_post",
         "rawType": "int64",
         "type": "integer"
        },
        {
         "name": "has_secondary_use_gov_office",
         "rawType": "int64",
         "type": "integer"
        },
        {
         "name": "has_secondary_use_use_police",
         "rawType": "int64",
         "type": "integer"
        },
        {
         "name": "has_secondary_use_other",
         "rawType": "int64",
         "type": "integer"
        }
       ],
       "conversionMethod": "pd.DataFrame",
       "ref": "56f6a317-5aeb-46d8-b6e4-3bcc597d7ce5",
       "rows": [
        [
         "0",
         "802906",
         "6",
         "487",
         "12198",
         "2",
         "30",
         "6",
         "5",
         "t",
         "r",
         "n",
         "f",
         "q",
         "t",
         "d",
         "1",
         "1",
         "0",
         "0",
         "0",
         "0",
         "0",
         "0",
         "0",
         "0",
         "0",
         "v",
         "1",
         "0",
         "0",
         "0",
         "0",
         "0",
         "0",
         "0",
         "0",
         "0",
         "0",
         "0"
        ],
        [
         "1",
         "28830",
         "8",
         "900",
         "2812",
         "2",
         "10",
         "8",
         "7",
         "o",
         "r",
         "n",
         "x",
         "q",
         "s",
         "d",
         "0",
         "1",
         "0",
         "0",
         "0",
         "0",
         "0",
         "0",
         "0",
         "0",
         "0",
         "v",
         "1",
         "0",
         "0",
         "0",
         "0",
         "0",
         "0",
         "0",
         "0",
         "0",
         "0",
         "0"
        ],
        [
         "2",
         "94947",
         "21",
         "363",
         "8973",
         "2",
         "10",
         "5",
         "5",
         "t",
         "r",
         "n",
         "f",
         "x",
         "t",
         "d",
         "0",
         "1",
         "0",
         "0",
         "0",
         "0",
         "0",
         "0",
         "0",
         "0",
         "0",
         "v",
         "1",
         "0",
         "0",
         "0",
         "0",
         "0",
         "0",
         "0",
         "0",
         "0",
         "0",
         "0"
        ],
        [
         "3",
         "590882",
         "22",
         "418",
         "10694",
         "2",
         "10",
         "6",
         "5",
         "t",
         "r",
         "n",
         "f",
         "x",
         "s",
         "d",
         "0",
         "1",
         "0",
         "0",
         "0",
         "0",
         "1",
         "1",
         "0",
         "0",
         "0",
         "v",
         "1",
         "0",
         "0",
         "0",
         "0",
         "0",
         "0",
         "0",
         "0",
         "0",
         "0",
         "0"
        ],
        [
         "4",
         "201944",
         "11",
         "131",
         "1488",
         "3",
         "30",
         "8",
         "9",
         "t",
         "r",
         "n",
         "f",
         "x",
         "s",
         "d",
         "1",
         "0",
         "0",
         "0",
         "0",
         "0",
         "0",
         "0",
         "0",
         "0",
         "0",
         "v",
         "1",
         "0",
         "0",
         "0",
         "0",
         "0",
         "0",
         "0",
         "0",
         "0",
         "0",
         "0"
        ]
       ],
       "shape": {
        "columns": 39,
        "rows": 5
       }
      },
      "text/html": [
       "<div>\n",
       "<style scoped>\n",
       "    .dataframe tbody tr th:only-of-type {\n",
       "        vertical-align: middle;\n",
       "    }\n",
       "\n",
       "    .dataframe tbody tr th {\n",
       "        vertical-align: top;\n",
       "    }\n",
       "\n",
       "    .dataframe thead th {\n",
       "        text-align: right;\n",
       "    }\n",
       "</style>\n",
       "<table border=\"1\" class=\"dataframe\">\n",
       "  <thead>\n",
       "    <tr style=\"text-align: right;\">\n",
       "      <th></th>\n",
       "      <th>building_id</th>\n",
       "      <th>geo_level_1_id</th>\n",
       "      <th>geo_level_2_id</th>\n",
       "      <th>geo_level_3_id</th>\n",
       "      <th>count_floors_pre_eq</th>\n",
       "      <th>age</th>\n",
       "      <th>area_percentage</th>\n",
       "      <th>height_percentage</th>\n",
       "      <th>land_surface_condition</th>\n",
       "      <th>foundation_type</th>\n",
       "      <th>roof_type</th>\n",
       "      <th>ground_floor_type</th>\n",
       "      <th>other_floor_type</th>\n",
       "      <th>position</th>\n",
       "      <th>plan_configuration</th>\n",
       "      <th>has_superstructure_adobe_mud</th>\n",
       "      <th>has_superstructure_mud_mortar_stone</th>\n",
       "      <th>has_superstructure_stone_flag</th>\n",
       "      <th>has_superstructure_cement_mortar_stone</th>\n",
       "      <th>has_superstructure_mud_mortar_brick</th>\n",
       "      <th>has_superstructure_cement_mortar_brick</th>\n",
       "      <th>has_superstructure_timber</th>\n",
       "      <th>has_superstructure_bamboo</th>\n",
       "      <th>has_superstructure_rc_non_engineered</th>\n",
       "      <th>has_superstructure_rc_engineered</th>\n",
       "      <th>has_superstructure_other</th>\n",
       "      <th>legal_ownership_status</th>\n",
       "      <th>count_families</th>\n",
       "      <th>has_secondary_use</th>\n",
       "      <th>has_secondary_use_agriculture</th>\n",
       "      <th>has_secondary_use_hotel</th>\n",
       "      <th>has_secondary_use_rental</th>\n",
       "      <th>has_secondary_use_institution</th>\n",
       "      <th>has_secondary_use_school</th>\n",
       "      <th>has_secondary_use_industry</th>\n",
       "      <th>has_secondary_use_health_post</th>\n",
       "      <th>has_secondary_use_gov_office</th>\n",
       "      <th>has_secondary_use_use_police</th>\n",
       "      <th>has_secondary_use_other</th>\n",
       "    </tr>\n",
       "  </thead>\n",
       "  <tbody>\n",
       "    <tr>\n",
       "      <th>0</th>\n",
       "      <td>802906</td>\n",
       "      <td>6</td>\n",
       "      <td>487</td>\n",
       "      <td>12198</td>\n",
       "      <td>2</td>\n",
       "      <td>30</td>\n",
       "      <td>6</td>\n",
       "      <td>5</td>\n",
       "      <td>t</td>\n",
       "      <td>r</td>\n",
       "      <td>n</td>\n",
       "      <td>f</td>\n",
       "      <td>q</td>\n",
       "      <td>t</td>\n",
       "      <td>d</td>\n",
       "      <td>1</td>\n",
       "      <td>1</td>\n",
       "      <td>0</td>\n",
       "      <td>0</td>\n",
       "      <td>0</td>\n",
       "      <td>0</td>\n",
       "      <td>0</td>\n",
       "      <td>0</td>\n",
       "      <td>0</td>\n",
       "      <td>0</td>\n",
       "      <td>0</td>\n",
       "      <td>v</td>\n",
       "      <td>1</td>\n",
       "      <td>0</td>\n",
       "      <td>0</td>\n",
       "      <td>0</td>\n",
       "      <td>0</td>\n",
       "      <td>0</td>\n",
       "      <td>0</td>\n",
       "      <td>0</td>\n",
       "      <td>0</td>\n",
       "      <td>0</td>\n",
       "      <td>0</td>\n",
       "      <td>0</td>\n",
       "    </tr>\n",
       "    <tr>\n",
       "      <th>1</th>\n",
       "      <td>28830</td>\n",
       "      <td>8</td>\n",
       "      <td>900</td>\n",
       "      <td>2812</td>\n",
       "      <td>2</td>\n",
       "      <td>10</td>\n",
       "      <td>8</td>\n",
       "      <td>7</td>\n",
       "      <td>o</td>\n",
       "      <td>r</td>\n",
       "      <td>n</td>\n",
       "      <td>x</td>\n",
       "      <td>q</td>\n",
       "      <td>s</td>\n",
       "      <td>d</td>\n",
       "      <td>0</td>\n",
       "      <td>1</td>\n",
       "      <td>0</td>\n",
       "      <td>0</td>\n",
       "      <td>0</td>\n",
       "      <td>0</td>\n",
       "      <td>0</td>\n",
       "      <td>0</td>\n",
       "      <td>0</td>\n",
       "      <td>0</td>\n",
       "      <td>0</td>\n",
       "      <td>v</td>\n",
       "      <td>1</td>\n",
       "      <td>0</td>\n",
       "      <td>0</td>\n",
       "      <td>0</td>\n",
       "      <td>0</td>\n",
       "      <td>0</td>\n",
       "      <td>0</td>\n",
       "      <td>0</td>\n",
       "      <td>0</td>\n",
       "      <td>0</td>\n",
       "      <td>0</td>\n",
       "      <td>0</td>\n",
       "    </tr>\n",
       "    <tr>\n",
       "      <th>2</th>\n",
       "      <td>94947</td>\n",
       "      <td>21</td>\n",
       "      <td>363</td>\n",
       "      <td>8973</td>\n",
       "      <td>2</td>\n",
       "      <td>10</td>\n",
       "      <td>5</td>\n",
       "      <td>5</td>\n",
       "      <td>t</td>\n",
       "      <td>r</td>\n",
       "      <td>n</td>\n",
       "      <td>f</td>\n",
       "      <td>x</td>\n",
       "      <td>t</td>\n",
       "      <td>d</td>\n",
       "      <td>0</td>\n",
       "      <td>1</td>\n",
       "      <td>0</td>\n",
       "      <td>0</td>\n",
       "      <td>0</td>\n",
       "      <td>0</td>\n",
       "      <td>0</td>\n",
       "      <td>0</td>\n",
       "      <td>0</td>\n",
       "      <td>0</td>\n",
       "      <td>0</td>\n",
       "      <td>v</td>\n",
       "      <td>1</td>\n",
       "      <td>0</td>\n",
       "      <td>0</td>\n",
       "      <td>0</td>\n",
       "      <td>0</td>\n",
       "      <td>0</td>\n",
       "      <td>0</td>\n",
       "      <td>0</td>\n",
       "      <td>0</td>\n",
       "      <td>0</td>\n",
       "      <td>0</td>\n",
       "      <td>0</td>\n",
       "    </tr>\n",
       "    <tr>\n",
       "      <th>3</th>\n",
       "      <td>590882</td>\n",
       "      <td>22</td>\n",
       "      <td>418</td>\n",
       "      <td>10694</td>\n",
       "      <td>2</td>\n",
       "      <td>10</td>\n",
       "      <td>6</td>\n",
       "      <td>5</td>\n",
       "      <td>t</td>\n",
       "      <td>r</td>\n",
       "      <td>n</td>\n",
       "      <td>f</td>\n",
       "      <td>x</td>\n",
       "      <td>s</td>\n",
       "      <td>d</td>\n",
       "      <td>0</td>\n",
       "      <td>1</td>\n",
       "      <td>0</td>\n",
       "      <td>0</td>\n",
       "      <td>0</td>\n",
       "      <td>0</td>\n",
       "      <td>1</td>\n",
       "      <td>1</td>\n",
       "      <td>0</td>\n",
       "      <td>0</td>\n",
       "      <td>0</td>\n",
       "      <td>v</td>\n",
       "      <td>1</td>\n",
       "      <td>0</td>\n",
       "      <td>0</td>\n",
       "      <td>0</td>\n",
       "      <td>0</td>\n",
       "      <td>0</td>\n",
       "      <td>0</td>\n",
       "      <td>0</td>\n",
       "      <td>0</td>\n",
       "      <td>0</td>\n",
       "      <td>0</td>\n",
       "      <td>0</td>\n",
       "    </tr>\n",
       "    <tr>\n",
       "      <th>4</th>\n",
       "      <td>201944</td>\n",
       "      <td>11</td>\n",
       "      <td>131</td>\n",
       "      <td>1488</td>\n",
       "      <td>3</td>\n",
       "      <td>30</td>\n",
       "      <td>8</td>\n",
       "      <td>9</td>\n",
       "      <td>t</td>\n",
       "      <td>r</td>\n",
       "      <td>n</td>\n",
       "      <td>f</td>\n",
       "      <td>x</td>\n",
       "      <td>s</td>\n",
       "      <td>d</td>\n",
       "      <td>1</td>\n",
       "      <td>0</td>\n",
       "      <td>0</td>\n",
       "      <td>0</td>\n",
       "      <td>0</td>\n",
       "      <td>0</td>\n",
       "      <td>0</td>\n",
       "      <td>0</td>\n",
       "      <td>0</td>\n",
       "      <td>0</td>\n",
       "      <td>0</td>\n",
       "      <td>v</td>\n",
       "      <td>1</td>\n",
       "      <td>0</td>\n",
       "      <td>0</td>\n",
       "      <td>0</td>\n",
       "      <td>0</td>\n",
       "      <td>0</td>\n",
       "      <td>0</td>\n",
       "      <td>0</td>\n",
       "      <td>0</td>\n",
       "      <td>0</td>\n",
       "      <td>0</td>\n",
       "      <td>0</td>\n",
       "    </tr>\n",
       "  </tbody>\n",
       "</table>\n",
       "</div>"
      ],
      "text/plain": [
       "   building_id  ...  has_secondary_use_other\n",
       "0       802906  ...                        0\n",
       "1        28830  ...                        0\n",
       "2        94947  ...                        0\n",
       "3       590882  ...                        0\n",
       "4       201944  ...                        0\n",
       "\n",
       "[5 rows x 39 columns]"
      ]
     },
     "execution_count": 3,
     "metadata": {},
     "output_type": "execute_result"
    }
   ],
   "source": [
    "print(train_values.shape)\n",
    "train_values.head()"
   ]
  },
  {
   "cell_type": "code",
   "execution_count": 6,
   "metadata": {},
   "outputs": [
    {
     "name": "stdout",
     "output_type": "stream",
     "text": [
      "(260601, 2)\n"
     ]
    },
    {
     "data": {
      "application/vnd.microsoft.datawrangler.viewer.v0+json": {
       "columns": [
        {
         "name": "index",
         "rawType": "int64",
         "type": "integer"
        },
        {
         "name": "building_id",
         "rawType": "int64",
         "type": "integer"
        },
        {
         "name": "damage_grade",
         "rawType": "int64",
         "type": "integer"
        }
       ],
       "conversionMethod": "pd.DataFrame",
       "ref": "734f68de-29bb-4e51-addf-2074a2382b00",
       "rows": [
        [
         "0",
         "802906",
         "3"
        ],
        [
         "1",
         "28830",
         "2"
        ],
        [
         "2",
         "94947",
         "3"
        ],
        [
         "3",
         "590882",
         "2"
        ],
        [
         "4",
         "201944",
         "3"
        ]
       ],
       "shape": {
        "columns": 2,
        "rows": 5
       }
      },
      "text/html": [
       "<div>\n",
       "<style scoped>\n",
       "    .dataframe tbody tr th:only-of-type {\n",
       "        vertical-align: middle;\n",
       "    }\n",
       "\n",
       "    .dataframe tbody tr th {\n",
       "        vertical-align: top;\n",
       "    }\n",
       "\n",
       "    .dataframe thead th {\n",
       "        text-align: right;\n",
       "    }\n",
       "</style>\n",
       "<table border=\"1\" class=\"dataframe\">\n",
       "  <thead>\n",
       "    <tr style=\"text-align: right;\">\n",
       "      <th></th>\n",
       "      <th>building_id</th>\n",
       "      <th>damage_grade</th>\n",
       "    </tr>\n",
       "  </thead>\n",
       "  <tbody>\n",
       "    <tr>\n",
       "      <th>0</th>\n",
       "      <td>802906</td>\n",
       "      <td>3</td>\n",
       "    </tr>\n",
       "    <tr>\n",
       "      <th>1</th>\n",
       "      <td>28830</td>\n",
       "      <td>2</td>\n",
       "    </tr>\n",
       "    <tr>\n",
       "      <th>2</th>\n",
       "      <td>94947</td>\n",
       "      <td>3</td>\n",
       "    </tr>\n",
       "    <tr>\n",
       "      <th>3</th>\n",
       "      <td>590882</td>\n",
       "      <td>2</td>\n",
       "    </tr>\n",
       "    <tr>\n",
       "      <th>4</th>\n",
       "      <td>201944</td>\n",
       "      <td>3</td>\n",
       "    </tr>\n",
       "  </tbody>\n",
       "</table>\n",
       "</div>"
      ],
      "text/plain": [
       "   building_id  damage_grade\n",
       "0       802906             3\n",
       "1        28830             2\n",
       "2        94947             3\n",
       "3       590882             2\n",
       "4       201944             3"
      ]
     },
     "execution_count": 6,
     "metadata": {},
     "output_type": "execute_result"
    }
   ],
   "source": [
    "print(train_labels.shape)\n",
    "train_labels.head()"
   ]
  },
  {
   "cell_type": "code",
   "execution_count": 7,
   "metadata": {},
   "outputs": [
    {
     "name": "stdout",
     "output_type": "stream",
     "text": [
      "(86868, 39)\n"
     ]
    },
    {
     "data": {
      "application/vnd.microsoft.datawrangler.viewer.v0+json": {
       "columns": [
        {
         "name": "index",
         "rawType": "int64",
         "type": "integer"
        },
        {
         "name": "building_id",
         "rawType": "int64",
         "type": "integer"
        },
        {
         "name": "geo_level_1_id",
         "rawType": "int64",
         "type": "integer"
        },
        {
         "name": "geo_level_2_id",
         "rawType": "int64",
         "type": "integer"
        },
        {
         "name": "geo_level_3_id",
         "rawType": "int64",
         "type": "integer"
        },
        {
         "name": "count_floors_pre_eq",
         "rawType": "int64",
         "type": "integer"
        },
        {
         "name": "age",
         "rawType": "int64",
         "type": "integer"
        },
        {
         "name": "area_percentage",
         "rawType": "int64",
         "type": "integer"
        },
        {
         "name": "height_percentage",
         "rawType": "int64",
         "type": "integer"
        },
        {
         "name": "land_surface_condition",
         "rawType": "object",
         "type": "string"
        },
        {
         "name": "foundation_type",
         "rawType": "object",
         "type": "string"
        },
        {
         "name": "roof_type",
         "rawType": "object",
         "type": "string"
        },
        {
         "name": "ground_floor_type",
         "rawType": "object",
         "type": "string"
        },
        {
         "name": "other_floor_type",
         "rawType": "object",
         "type": "string"
        },
        {
         "name": "position",
         "rawType": "object",
         "type": "string"
        },
        {
         "name": "plan_configuration",
         "rawType": "object",
         "type": "string"
        },
        {
         "name": "has_superstructure_adobe_mud",
         "rawType": "int64",
         "type": "integer"
        },
        {
         "name": "has_superstructure_mud_mortar_stone",
         "rawType": "int64",
         "type": "integer"
        },
        {
         "name": "has_superstructure_stone_flag",
         "rawType": "int64",
         "type": "integer"
        },
        {
         "name": "has_superstructure_cement_mortar_stone",
         "rawType": "int64",
         "type": "integer"
        },
        {
         "name": "has_superstructure_mud_mortar_brick",
         "rawType": "int64",
         "type": "integer"
        },
        {
         "name": "has_superstructure_cement_mortar_brick",
         "rawType": "int64",
         "type": "integer"
        },
        {
         "name": "has_superstructure_timber",
         "rawType": "int64",
         "type": "integer"
        },
        {
         "name": "has_superstructure_bamboo",
         "rawType": "int64",
         "type": "integer"
        },
        {
         "name": "has_superstructure_rc_non_engineered",
         "rawType": "int64",
         "type": "integer"
        },
        {
         "name": "has_superstructure_rc_engineered",
         "rawType": "int64",
         "type": "integer"
        },
        {
         "name": "has_superstructure_other",
         "rawType": "int64",
         "type": "integer"
        },
        {
         "name": "legal_ownership_status",
         "rawType": "object",
         "type": "string"
        },
        {
         "name": "count_families",
         "rawType": "int64",
         "type": "integer"
        },
        {
         "name": "has_secondary_use",
         "rawType": "int64",
         "type": "integer"
        },
        {
         "name": "has_secondary_use_agriculture",
         "rawType": "int64",
         "type": "integer"
        },
        {
         "name": "has_secondary_use_hotel",
         "rawType": "int64",
         "type": "integer"
        },
        {
         "name": "has_secondary_use_rental",
         "rawType": "int64",
         "type": "integer"
        },
        {
         "name": "has_secondary_use_institution",
         "rawType": "int64",
         "type": "integer"
        },
        {
         "name": "has_secondary_use_school",
         "rawType": "int64",
         "type": "integer"
        },
        {
         "name": "has_secondary_use_industry",
         "rawType": "int64",
         "type": "integer"
        },
        {
         "name": "has_secondary_use_health_post",
         "rawType": "int64",
         "type": "integer"
        },
        {
         "name": "has_secondary_use_gov_office",
         "rawType": "int64",
         "type": "integer"
        },
        {
         "name": "has_secondary_use_use_police",
         "rawType": "int64",
         "type": "integer"
        },
        {
         "name": "has_secondary_use_other",
         "rawType": "int64",
         "type": "integer"
        }
       ],
       "conversionMethod": "pd.DataFrame",
       "ref": "3f71fb24-ac1e-4a7f-b5b5-21191de8d6e6",
       "rows": [
        [
         "0",
         "300051",
         "17",
         "596",
         "11307",
         "3",
         "20",
         "7",
         "6",
         "t",
         "r",
         "n",
         "f",
         "q",
         "s",
         "d",
         "0",
         "1",
         "0",
         "0",
         "0",
         "0",
         "0",
         "0",
         "0",
         "0",
         "0",
         "v",
         "1",
         "0",
         "0",
         "0",
         "0",
         "0",
         "0",
         "0",
         "0",
         "0",
         "0",
         "0"
        ],
        [
         "1",
         "99355",
         "6",
         "141",
         "11987",
         "2",
         "25",
         "13",
         "5",
         "t",
         "r",
         "n",
         "f",
         "q",
         "s",
         "d",
         "0",
         "1",
         "0",
         "0",
         "0",
         "0",
         "0",
         "0",
         "0",
         "0",
         "0",
         "v",
         "1",
         "1",
         "1",
         "0",
         "0",
         "0",
         "0",
         "0",
         "0",
         "0",
         "0",
         "0"
        ],
        [
         "2",
         "890251",
         "22",
         "19",
         "10044",
         "2",
         "5",
         "4",
         "5",
         "t",
         "r",
         "n",
         "f",
         "q",
         "s",
         "d",
         "0",
         "1",
         "0",
         "0",
         "0",
         "0",
         "0",
         "0",
         "0",
         "0",
         "0",
         "v",
         "1",
         "0",
         "0",
         "0",
         "0",
         "0",
         "0",
         "0",
         "0",
         "0",
         "0",
         "0"
        ],
        [
         "3",
         "745817",
         "26",
         "39",
         "633",
         "1",
         "0",
         "19",
         "3",
         "t",
         "r",
         "x",
         "v",
         "j",
         "t",
         "d",
         "0",
         "0",
         "0",
         "0",
         "0",
         "1",
         "0",
         "0",
         "0",
         "0",
         "0",
         "v",
         "2",
         "1",
         "0",
         "0",
         "1",
         "0",
         "0",
         "0",
         "0",
         "0",
         "0",
         "0"
        ],
        [
         "4",
         "421793",
         "17",
         "289",
         "7970",
         "3",
         "15",
         "8",
         "7",
         "t",
         "r",
         "q",
         "f",
         "q",
         "t",
         "d",
         "0",
         "1",
         "0",
         "0",
         "0",
         "0",
         "0",
         "0",
         "0",
         "0",
         "0",
         "v",
         "1",
         "0",
         "0",
         "0",
         "0",
         "0",
         "0",
         "0",
         "0",
         "0",
         "0",
         "0"
        ]
       ],
       "shape": {
        "columns": 39,
        "rows": 5
       }
      },
      "text/html": [
       "<div>\n",
       "<style scoped>\n",
       "    .dataframe tbody tr th:only-of-type {\n",
       "        vertical-align: middle;\n",
       "    }\n",
       "\n",
       "    .dataframe tbody tr th {\n",
       "        vertical-align: top;\n",
       "    }\n",
       "\n",
       "    .dataframe thead th {\n",
       "        text-align: right;\n",
       "    }\n",
       "</style>\n",
       "<table border=\"1\" class=\"dataframe\">\n",
       "  <thead>\n",
       "    <tr style=\"text-align: right;\">\n",
       "      <th></th>\n",
       "      <th>building_id</th>\n",
       "      <th>geo_level_1_id</th>\n",
       "      <th>geo_level_2_id</th>\n",
       "      <th>geo_level_3_id</th>\n",
       "      <th>count_floors_pre_eq</th>\n",
       "      <th>age</th>\n",
       "      <th>area_percentage</th>\n",
       "      <th>height_percentage</th>\n",
       "      <th>land_surface_condition</th>\n",
       "      <th>foundation_type</th>\n",
       "      <th>roof_type</th>\n",
       "      <th>ground_floor_type</th>\n",
       "      <th>other_floor_type</th>\n",
       "      <th>position</th>\n",
       "      <th>plan_configuration</th>\n",
       "      <th>has_superstructure_adobe_mud</th>\n",
       "      <th>has_superstructure_mud_mortar_stone</th>\n",
       "      <th>has_superstructure_stone_flag</th>\n",
       "      <th>has_superstructure_cement_mortar_stone</th>\n",
       "      <th>has_superstructure_mud_mortar_brick</th>\n",
       "      <th>has_superstructure_cement_mortar_brick</th>\n",
       "      <th>has_superstructure_timber</th>\n",
       "      <th>has_superstructure_bamboo</th>\n",
       "      <th>has_superstructure_rc_non_engineered</th>\n",
       "      <th>has_superstructure_rc_engineered</th>\n",
       "      <th>has_superstructure_other</th>\n",
       "      <th>legal_ownership_status</th>\n",
       "      <th>count_families</th>\n",
       "      <th>has_secondary_use</th>\n",
       "      <th>has_secondary_use_agriculture</th>\n",
       "      <th>has_secondary_use_hotel</th>\n",
       "      <th>has_secondary_use_rental</th>\n",
       "      <th>has_secondary_use_institution</th>\n",
       "      <th>has_secondary_use_school</th>\n",
       "      <th>has_secondary_use_industry</th>\n",
       "      <th>has_secondary_use_health_post</th>\n",
       "      <th>has_secondary_use_gov_office</th>\n",
       "      <th>has_secondary_use_use_police</th>\n",
       "      <th>has_secondary_use_other</th>\n",
       "    </tr>\n",
       "  </thead>\n",
       "  <tbody>\n",
       "    <tr>\n",
       "      <th>0</th>\n",
       "      <td>300051</td>\n",
       "      <td>17</td>\n",
       "      <td>596</td>\n",
       "      <td>11307</td>\n",
       "      <td>3</td>\n",
       "      <td>20</td>\n",
       "      <td>7</td>\n",
       "      <td>6</td>\n",
       "      <td>t</td>\n",
       "      <td>r</td>\n",
       "      <td>n</td>\n",
       "      <td>f</td>\n",
       "      <td>q</td>\n",
       "      <td>s</td>\n",
       "      <td>d</td>\n",
       "      <td>0</td>\n",
       "      <td>1</td>\n",
       "      <td>0</td>\n",
       "      <td>0</td>\n",
       "      <td>0</td>\n",
       "      <td>0</td>\n",
       "      <td>0</td>\n",
       "      <td>0</td>\n",
       "      <td>0</td>\n",
       "      <td>0</td>\n",
       "      <td>0</td>\n",
       "      <td>v</td>\n",
       "      <td>1</td>\n",
       "      <td>0</td>\n",
       "      <td>0</td>\n",
       "      <td>0</td>\n",
       "      <td>0</td>\n",
       "      <td>0</td>\n",
       "      <td>0</td>\n",
       "      <td>0</td>\n",
       "      <td>0</td>\n",
       "      <td>0</td>\n",
       "      <td>0</td>\n",
       "      <td>0</td>\n",
       "    </tr>\n",
       "    <tr>\n",
       "      <th>1</th>\n",
       "      <td>99355</td>\n",
       "      <td>6</td>\n",
       "      <td>141</td>\n",
       "      <td>11987</td>\n",
       "      <td>2</td>\n",
       "      <td>25</td>\n",
       "      <td>13</td>\n",
       "      <td>5</td>\n",
       "      <td>t</td>\n",
       "      <td>r</td>\n",
       "      <td>n</td>\n",
       "      <td>f</td>\n",
       "      <td>q</td>\n",
       "      <td>s</td>\n",
       "      <td>d</td>\n",
       "      <td>0</td>\n",
       "      <td>1</td>\n",
       "      <td>0</td>\n",
       "      <td>0</td>\n",
       "      <td>0</td>\n",
       "      <td>0</td>\n",
       "      <td>0</td>\n",
       "      <td>0</td>\n",
       "      <td>0</td>\n",
       "      <td>0</td>\n",
       "      <td>0</td>\n",
       "      <td>v</td>\n",
       "      <td>1</td>\n",
       "      <td>1</td>\n",
       "      <td>1</td>\n",
       "      <td>0</td>\n",
       "      <td>0</td>\n",
       "      <td>0</td>\n",
       "      <td>0</td>\n",
       "      <td>0</td>\n",
       "      <td>0</td>\n",
       "      <td>0</td>\n",
       "      <td>0</td>\n",
       "      <td>0</td>\n",
       "    </tr>\n",
       "    <tr>\n",
       "      <th>2</th>\n",
       "      <td>890251</td>\n",
       "      <td>22</td>\n",
       "      <td>19</td>\n",
       "      <td>10044</td>\n",
       "      <td>2</td>\n",
       "      <td>5</td>\n",
       "      <td>4</td>\n",
       "      <td>5</td>\n",
       "      <td>t</td>\n",
       "      <td>r</td>\n",
       "      <td>n</td>\n",
       "      <td>f</td>\n",
       "      <td>q</td>\n",
       "      <td>s</td>\n",
       "      <td>d</td>\n",
       "      <td>0</td>\n",
       "      <td>1</td>\n",
       "      <td>0</td>\n",
       "      <td>0</td>\n",
       "      <td>0</td>\n",
       "      <td>0</td>\n",
       "      <td>0</td>\n",
       "      <td>0</td>\n",
       "      <td>0</td>\n",
       "      <td>0</td>\n",
       "      <td>0</td>\n",
       "      <td>v</td>\n",
       "      <td>1</td>\n",
       "      <td>0</td>\n",
       "      <td>0</td>\n",
       "      <td>0</td>\n",
       "      <td>0</td>\n",
       "      <td>0</td>\n",
       "      <td>0</td>\n",
       "      <td>0</td>\n",
       "      <td>0</td>\n",
       "      <td>0</td>\n",
       "      <td>0</td>\n",
       "      <td>0</td>\n",
       "    </tr>\n",
       "    <tr>\n",
       "      <th>3</th>\n",
       "      <td>745817</td>\n",
       "      <td>26</td>\n",
       "      <td>39</td>\n",
       "      <td>633</td>\n",
       "      <td>1</td>\n",
       "      <td>0</td>\n",
       "      <td>19</td>\n",
       "      <td>3</td>\n",
       "      <td>t</td>\n",
       "      <td>r</td>\n",
       "      <td>x</td>\n",
       "      <td>v</td>\n",
       "      <td>j</td>\n",
       "      <td>t</td>\n",
       "      <td>d</td>\n",
       "      <td>0</td>\n",
       "      <td>0</td>\n",
       "      <td>0</td>\n",
       "      <td>0</td>\n",
       "      <td>0</td>\n",
       "      <td>1</td>\n",
       "      <td>0</td>\n",
       "      <td>0</td>\n",
       "      <td>0</td>\n",
       "      <td>0</td>\n",
       "      <td>0</td>\n",
       "      <td>v</td>\n",
       "      <td>2</td>\n",
       "      <td>1</td>\n",
       "      <td>0</td>\n",
       "      <td>0</td>\n",
       "      <td>1</td>\n",
       "      <td>0</td>\n",
       "      <td>0</td>\n",
       "      <td>0</td>\n",
       "      <td>0</td>\n",
       "      <td>0</td>\n",
       "      <td>0</td>\n",
       "      <td>0</td>\n",
       "    </tr>\n",
       "    <tr>\n",
       "      <th>4</th>\n",
       "      <td>421793</td>\n",
       "      <td>17</td>\n",
       "      <td>289</td>\n",
       "      <td>7970</td>\n",
       "      <td>3</td>\n",
       "      <td>15</td>\n",
       "      <td>8</td>\n",
       "      <td>7</td>\n",
       "      <td>t</td>\n",
       "      <td>r</td>\n",
       "      <td>q</td>\n",
       "      <td>f</td>\n",
       "      <td>q</td>\n",
       "      <td>t</td>\n",
       "      <td>d</td>\n",
       "      <td>0</td>\n",
       "      <td>1</td>\n",
       "      <td>0</td>\n",
       "      <td>0</td>\n",
       "      <td>0</td>\n",
       "      <td>0</td>\n",
       "      <td>0</td>\n",
       "      <td>0</td>\n",
       "      <td>0</td>\n",
       "      <td>0</td>\n",
       "      <td>0</td>\n",
       "      <td>v</td>\n",
       "      <td>1</td>\n",
       "      <td>0</td>\n",
       "      <td>0</td>\n",
       "      <td>0</td>\n",
       "      <td>0</td>\n",
       "      <td>0</td>\n",
       "      <td>0</td>\n",
       "      <td>0</td>\n",
       "      <td>0</td>\n",
       "      <td>0</td>\n",
       "      <td>0</td>\n",
       "      <td>0</td>\n",
       "    </tr>\n",
       "  </tbody>\n",
       "</table>\n",
       "</div>"
      ],
      "text/plain": [
       "   building_id  ...  has_secondary_use_other\n",
       "0       300051  ...                        0\n",
       "1        99355  ...                        0\n",
       "2       890251  ...                        0\n",
       "3       745817  ...                        0\n",
       "4       421793  ...                        0\n",
       "\n",
       "[5 rows x 39 columns]"
      ]
     },
     "execution_count": 7,
     "metadata": {},
     "output_type": "execute_result"
    }
   ],
   "source": [
    "print(test_values.shape)\n",
    "test_values.head()"
   ]
  },
  {
   "cell_type": "markdown",
   "metadata": {},
   "source": [
    "### Data Preparation"
   ]
  },
  {
   "cell_type": "code",
   "execution_count": 3,
   "metadata": {},
   "outputs": [
    {
     "data": {
      "text/plain": [
       "(260601, 40)"
      ]
     },
     "execution_count": 3,
     "metadata": {},
     "output_type": "execute_result"
    }
   ],
   "source": [
    "train_values = train_values.merge(train_labels, on='building_id')\n",
    "train_values.shape"
   ]
  },
  {
   "cell_type": "code",
   "execution_count": 9,
   "metadata": {},
   "outputs": [
    {
     "data": {
      "application/vnd.microsoft.datawrangler.viewer.v0+json": {
       "columns": [
        {
         "name": "index",
         "rawType": "int64",
         "type": "integer"
        },
        {
         "name": "building_id",
         "rawType": "int64",
         "type": "integer"
        },
        {
         "name": "geo_level_1_id",
         "rawType": "int64",
         "type": "integer"
        },
        {
         "name": "geo_level_2_id",
         "rawType": "int64",
         "type": "integer"
        },
        {
         "name": "geo_level_3_id",
         "rawType": "int64",
         "type": "integer"
        },
        {
         "name": "count_floors_pre_eq",
         "rawType": "int64",
         "type": "integer"
        },
        {
         "name": "age",
         "rawType": "int64",
         "type": "integer"
        },
        {
         "name": "area_percentage",
         "rawType": "int64",
         "type": "integer"
        },
        {
         "name": "height_percentage",
         "rawType": "int64",
         "type": "integer"
        },
        {
         "name": "land_surface_condition",
         "rawType": "object",
         "type": "string"
        },
        {
         "name": "foundation_type",
         "rawType": "object",
         "type": "string"
        },
        {
         "name": "roof_type",
         "rawType": "object",
         "type": "string"
        },
        {
         "name": "ground_floor_type",
         "rawType": "object",
         "type": "string"
        },
        {
         "name": "other_floor_type",
         "rawType": "object",
         "type": "string"
        },
        {
         "name": "position",
         "rawType": "object",
         "type": "string"
        },
        {
         "name": "plan_configuration",
         "rawType": "object",
         "type": "string"
        },
        {
         "name": "has_superstructure_adobe_mud",
         "rawType": "int64",
         "type": "integer"
        },
        {
         "name": "has_superstructure_mud_mortar_stone",
         "rawType": "int64",
         "type": "integer"
        },
        {
         "name": "has_superstructure_stone_flag",
         "rawType": "int64",
         "type": "integer"
        },
        {
         "name": "has_superstructure_cement_mortar_stone",
         "rawType": "int64",
         "type": "integer"
        },
        {
         "name": "has_superstructure_mud_mortar_brick",
         "rawType": "int64",
         "type": "integer"
        },
        {
         "name": "has_superstructure_cement_mortar_brick",
         "rawType": "int64",
         "type": "integer"
        },
        {
         "name": "has_superstructure_timber",
         "rawType": "int64",
         "type": "integer"
        },
        {
         "name": "has_superstructure_bamboo",
         "rawType": "int64",
         "type": "integer"
        },
        {
         "name": "has_superstructure_rc_non_engineered",
         "rawType": "int64",
         "type": "integer"
        },
        {
         "name": "has_superstructure_rc_engineered",
         "rawType": "int64",
         "type": "integer"
        },
        {
         "name": "has_superstructure_other",
         "rawType": "int64",
         "type": "integer"
        },
        {
         "name": "legal_ownership_status",
         "rawType": "object",
         "type": "string"
        },
        {
         "name": "count_families",
         "rawType": "int64",
         "type": "integer"
        },
        {
         "name": "has_secondary_use",
         "rawType": "int64",
         "type": "integer"
        },
        {
         "name": "has_secondary_use_agriculture",
         "rawType": "int64",
         "type": "integer"
        },
        {
         "name": "has_secondary_use_hotel",
         "rawType": "int64",
         "type": "integer"
        },
        {
         "name": "has_secondary_use_rental",
         "rawType": "int64",
         "type": "integer"
        },
        {
         "name": "has_secondary_use_institution",
         "rawType": "int64",
         "type": "integer"
        },
        {
         "name": "has_secondary_use_school",
         "rawType": "int64",
         "type": "integer"
        },
        {
         "name": "has_secondary_use_industry",
         "rawType": "int64",
         "type": "integer"
        },
        {
         "name": "has_secondary_use_health_post",
         "rawType": "int64",
         "type": "integer"
        },
        {
         "name": "has_secondary_use_gov_office",
         "rawType": "int64",
         "type": "integer"
        },
        {
         "name": "has_secondary_use_use_police",
         "rawType": "int64",
         "type": "integer"
        },
        {
         "name": "has_secondary_use_other",
         "rawType": "int64",
         "type": "integer"
        },
        {
         "name": "damage_grade",
         "rawType": "int64",
         "type": "integer"
        }
       ],
       "conversionMethod": "pd.DataFrame",
       "ref": "5a610672-73d6-4a3e-a114-bde4514a88af",
       "rows": [
        [
         "0",
         "802906",
         "6",
         "487",
         "12198",
         "2",
         "30",
         "6",
         "5",
         "t",
         "r",
         "n",
         "f",
         "q",
         "t",
         "d",
         "1",
         "1",
         "0",
         "0",
         "0",
         "0",
         "0",
         "0",
         "0",
         "0",
         "0",
         "v",
         "1",
         "0",
         "0",
         "0",
         "0",
         "0",
         "0",
         "0",
         "0",
         "0",
         "0",
         "0",
         "3"
        ],
        [
         "1",
         "28830",
         "8",
         "900",
         "2812",
         "2",
         "10",
         "8",
         "7",
         "o",
         "r",
         "n",
         "x",
         "q",
         "s",
         "d",
         "0",
         "1",
         "0",
         "0",
         "0",
         "0",
         "0",
         "0",
         "0",
         "0",
         "0",
         "v",
         "1",
         "0",
         "0",
         "0",
         "0",
         "0",
         "0",
         "0",
         "0",
         "0",
         "0",
         "0",
         "2"
        ],
        [
         "2",
         "94947",
         "21",
         "363",
         "8973",
         "2",
         "10",
         "5",
         "5",
         "t",
         "r",
         "n",
         "f",
         "x",
         "t",
         "d",
         "0",
         "1",
         "0",
         "0",
         "0",
         "0",
         "0",
         "0",
         "0",
         "0",
         "0",
         "v",
         "1",
         "0",
         "0",
         "0",
         "0",
         "0",
         "0",
         "0",
         "0",
         "0",
         "0",
         "0",
         "3"
        ],
        [
         "3",
         "590882",
         "22",
         "418",
         "10694",
         "2",
         "10",
         "6",
         "5",
         "t",
         "r",
         "n",
         "f",
         "x",
         "s",
         "d",
         "0",
         "1",
         "0",
         "0",
         "0",
         "0",
         "1",
         "1",
         "0",
         "0",
         "0",
         "v",
         "1",
         "0",
         "0",
         "0",
         "0",
         "0",
         "0",
         "0",
         "0",
         "0",
         "0",
         "0",
         "2"
        ],
        [
         "4",
         "201944",
         "11",
         "131",
         "1488",
         "3",
         "30",
         "8",
         "9",
         "t",
         "r",
         "n",
         "f",
         "x",
         "s",
         "d",
         "1",
         "0",
         "0",
         "0",
         "0",
         "0",
         "0",
         "0",
         "0",
         "0",
         "0",
         "v",
         "1",
         "0",
         "0",
         "0",
         "0",
         "0",
         "0",
         "0",
         "0",
         "0",
         "0",
         "0",
         "3"
        ]
       ],
       "shape": {
        "columns": 40,
        "rows": 5
       }
      },
      "text/html": [
       "<div>\n",
       "<style scoped>\n",
       "    .dataframe tbody tr th:only-of-type {\n",
       "        vertical-align: middle;\n",
       "    }\n",
       "\n",
       "    .dataframe tbody tr th {\n",
       "        vertical-align: top;\n",
       "    }\n",
       "\n",
       "    .dataframe thead th {\n",
       "        text-align: right;\n",
       "    }\n",
       "</style>\n",
       "<table border=\"1\" class=\"dataframe\">\n",
       "  <thead>\n",
       "    <tr style=\"text-align: right;\">\n",
       "      <th></th>\n",
       "      <th>building_id</th>\n",
       "      <th>geo_level_1_id</th>\n",
       "      <th>geo_level_2_id</th>\n",
       "      <th>geo_level_3_id</th>\n",
       "      <th>count_floors_pre_eq</th>\n",
       "      <th>age</th>\n",
       "      <th>area_percentage</th>\n",
       "      <th>height_percentage</th>\n",
       "      <th>land_surface_condition</th>\n",
       "      <th>foundation_type</th>\n",
       "      <th>roof_type</th>\n",
       "      <th>ground_floor_type</th>\n",
       "      <th>other_floor_type</th>\n",
       "      <th>position</th>\n",
       "      <th>plan_configuration</th>\n",
       "      <th>has_superstructure_adobe_mud</th>\n",
       "      <th>has_superstructure_mud_mortar_stone</th>\n",
       "      <th>has_superstructure_stone_flag</th>\n",
       "      <th>has_superstructure_cement_mortar_stone</th>\n",
       "      <th>has_superstructure_mud_mortar_brick</th>\n",
       "      <th>has_superstructure_cement_mortar_brick</th>\n",
       "      <th>has_superstructure_timber</th>\n",
       "      <th>has_superstructure_bamboo</th>\n",
       "      <th>has_superstructure_rc_non_engineered</th>\n",
       "      <th>has_superstructure_rc_engineered</th>\n",
       "      <th>has_superstructure_other</th>\n",
       "      <th>legal_ownership_status</th>\n",
       "      <th>count_families</th>\n",
       "      <th>has_secondary_use</th>\n",
       "      <th>has_secondary_use_agriculture</th>\n",
       "      <th>has_secondary_use_hotel</th>\n",
       "      <th>has_secondary_use_rental</th>\n",
       "      <th>has_secondary_use_institution</th>\n",
       "      <th>has_secondary_use_school</th>\n",
       "      <th>has_secondary_use_industry</th>\n",
       "      <th>has_secondary_use_health_post</th>\n",
       "      <th>has_secondary_use_gov_office</th>\n",
       "      <th>has_secondary_use_use_police</th>\n",
       "      <th>has_secondary_use_other</th>\n",
       "      <th>damage_grade</th>\n",
       "    </tr>\n",
       "  </thead>\n",
       "  <tbody>\n",
       "    <tr>\n",
       "      <th>0</th>\n",
       "      <td>802906</td>\n",
       "      <td>6</td>\n",
       "      <td>487</td>\n",
       "      <td>12198</td>\n",
       "      <td>2</td>\n",
       "      <td>30</td>\n",
       "      <td>6</td>\n",
       "      <td>5</td>\n",
       "      <td>t</td>\n",
       "      <td>r</td>\n",
       "      <td>n</td>\n",
       "      <td>f</td>\n",
       "      <td>q</td>\n",
       "      <td>t</td>\n",
       "      <td>d</td>\n",
       "      <td>1</td>\n",
       "      <td>1</td>\n",
       "      <td>0</td>\n",
       "      <td>0</td>\n",
       "      <td>0</td>\n",
       "      <td>0</td>\n",
       "      <td>0</td>\n",
       "      <td>0</td>\n",
       "      <td>0</td>\n",
       "      <td>0</td>\n",
       "      <td>0</td>\n",
       "      <td>v</td>\n",
       "      <td>1</td>\n",
       "      <td>0</td>\n",
       "      <td>0</td>\n",
       "      <td>0</td>\n",
       "      <td>0</td>\n",
       "      <td>0</td>\n",
       "      <td>0</td>\n",
       "      <td>0</td>\n",
       "      <td>0</td>\n",
       "      <td>0</td>\n",
       "      <td>0</td>\n",
       "      <td>0</td>\n",
       "      <td>3</td>\n",
       "    </tr>\n",
       "    <tr>\n",
       "      <th>1</th>\n",
       "      <td>28830</td>\n",
       "      <td>8</td>\n",
       "      <td>900</td>\n",
       "      <td>2812</td>\n",
       "      <td>2</td>\n",
       "      <td>10</td>\n",
       "      <td>8</td>\n",
       "      <td>7</td>\n",
       "      <td>o</td>\n",
       "      <td>r</td>\n",
       "      <td>n</td>\n",
       "      <td>x</td>\n",
       "      <td>q</td>\n",
       "      <td>s</td>\n",
       "      <td>d</td>\n",
       "      <td>0</td>\n",
       "      <td>1</td>\n",
       "      <td>0</td>\n",
       "      <td>0</td>\n",
       "      <td>0</td>\n",
       "      <td>0</td>\n",
       "      <td>0</td>\n",
       "      <td>0</td>\n",
       "      <td>0</td>\n",
       "      <td>0</td>\n",
       "      <td>0</td>\n",
       "      <td>v</td>\n",
       "      <td>1</td>\n",
       "      <td>0</td>\n",
       "      <td>0</td>\n",
       "      <td>0</td>\n",
       "      <td>0</td>\n",
       "      <td>0</td>\n",
       "      <td>0</td>\n",
       "      <td>0</td>\n",
       "      <td>0</td>\n",
       "      <td>0</td>\n",
       "      <td>0</td>\n",
       "      <td>0</td>\n",
       "      <td>2</td>\n",
       "    </tr>\n",
       "    <tr>\n",
       "      <th>2</th>\n",
       "      <td>94947</td>\n",
       "      <td>21</td>\n",
       "      <td>363</td>\n",
       "      <td>8973</td>\n",
       "      <td>2</td>\n",
       "      <td>10</td>\n",
       "      <td>5</td>\n",
       "      <td>5</td>\n",
       "      <td>t</td>\n",
       "      <td>r</td>\n",
       "      <td>n</td>\n",
       "      <td>f</td>\n",
       "      <td>x</td>\n",
       "      <td>t</td>\n",
       "      <td>d</td>\n",
       "      <td>0</td>\n",
       "      <td>1</td>\n",
       "      <td>0</td>\n",
       "      <td>0</td>\n",
       "      <td>0</td>\n",
       "      <td>0</td>\n",
       "      <td>0</td>\n",
       "      <td>0</td>\n",
       "      <td>0</td>\n",
       "      <td>0</td>\n",
       "      <td>0</td>\n",
       "      <td>v</td>\n",
       "      <td>1</td>\n",
       "      <td>0</td>\n",
       "      <td>0</td>\n",
       "      <td>0</td>\n",
       "      <td>0</td>\n",
       "      <td>0</td>\n",
       "      <td>0</td>\n",
       "      <td>0</td>\n",
       "      <td>0</td>\n",
       "      <td>0</td>\n",
       "      <td>0</td>\n",
       "      <td>0</td>\n",
       "      <td>3</td>\n",
       "    </tr>\n",
       "    <tr>\n",
       "      <th>3</th>\n",
       "      <td>590882</td>\n",
       "      <td>22</td>\n",
       "      <td>418</td>\n",
       "      <td>10694</td>\n",
       "      <td>2</td>\n",
       "      <td>10</td>\n",
       "      <td>6</td>\n",
       "      <td>5</td>\n",
       "      <td>t</td>\n",
       "      <td>r</td>\n",
       "      <td>n</td>\n",
       "      <td>f</td>\n",
       "      <td>x</td>\n",
       "      <td>s</td>\n",
       "      <td>d</td>\n",
       "      <td>0</td>\n",
       "      <td>1</td>\n",
       "      <td>0</td>\n",
       "      <td>0</td>\n",
       "      <td>0</td>\n",
       "      <td>0</td>\n",
       "      <td>1</td>\n",
       "      <td>1</td>\n",
       "      <td>0</td>\n",
       "      <td>0</td>\n",
       "      <td>0</td>\n",
       "      <td>v</td>\n",
       "      <td>1</td>\n",
       "      <td>0</td>\n",
       "      <td>0</td>\n",
       "      <td>0</td>\n",
       "      <td>0</td>\n",
       "      <td>0</td>\n",
       "      <td>0</td>\n",
       "      <td>0</td>\n",
       "      <td>0</td>\n",
       "      <td>0</td>\n",
       "      <td>0</td>\n",
       "      <td>0</td>\n",
       "      <td>2</td>\n",
       "    </tr>\n",
       "    <tr>\n",
       "      <th>4</th>\n",
       "      <td>201944</td>\n",
       "      <td>11</td>\n",
       "      <td>131</td>\n",
       "      <td>1488</td>\n",
       "      <td>3</td>\n",
       "      <td>30</td>\n",
       "      <td>8</td>\n",
       "      <td>9</td>\n",
       "      <td>t</td>\n",
       "      <td>r</td>\n",
       "      <td>n</td>\n",
       "      <td>f</td>\n",
       "      <td>x</td>\n",
       "      <td>s</td>\n",
       "      <td>d</td>\n",
       "      <td>1</td>\n",
       "      <td>0</td>\n",
       "      <td>0</td>\n",
       "      <td>0</td>\n",
       "      <td>0</td>\n",
       "      <td>0</td>\n",
       "      <td>0</td>\n",
       "      <td>0</td>\n",
       "      <td>0</td>\n",
       "      <td>0</td>\n",
       "      <td>0</td>\n",
       "      <td>v</td>\n",
       "      <td>1</td>\n",
       "      <td>0</td>\n",
       "      <td>0</td>\n",
       "      <td>0</td>\n",
       "      <td>0</td>\n",
       "      <td>0</td>\n",
       "      <td>0</td>\n",
       "      <td>0</td>\n",
       "      <td>0</td>\n",
       "      <td>0</td>\n",
       "      <td>0</td>\n",
       "      <td>0</td>\n",
       "      <td>3</td>\n",
       "    </tr>\n",
       "  </tbody>\n",
       "</table>\n",
       "</div>"
      ],
      "text/plain": [
       "   building_id  geo_level_1_id  ...  has_secondary_use_other  damage_grade\n",
       "0       802906               6  ...                        0             3\n",
       "1        28830               8  ...                        0             2\n",
       "2        94947              21  ...                        0             3\n",
       "3       590882              22  ...                        0             2\n",
       "4       201944              11  ...                        0             3\n",
       "\n",
       "[5 rows x 40 columns]"
      ]
     },
     "execution_count": 9,
     "metadata": {},
     "output_type": "execute_result"
    }
   ],
   "source": [
    "train_values.head()"
   ]
  },
  {
   "cell_type": "code",
   "execution_count": 10,
   "metadata": {},
   "outputs": [
    {
     "name": "stdout",
     "output_type": "stream",
     "text": [
      "<class 'pandas.core.frame.DataFrame'>\n",
      "RangeIndex: 260601 entries, 0 to 260600\n",
      "Data columns (total 40 columns):\n",
      " #   Column                                  Non-Null Count   Dtype \n",
      "---  ------                                  --------------   ----- \n",
      " 0   building_id                             260601 non-null  int64 \n",
      " 1   geo_level_1_id                          260601 non-null  int64 \n",
      " 2   geo_level_2_id                          260601 non-null  int64 \n",
      " 3   geo_level_3_id                          260601 non-null  int64 \n",
      " 4   count_floors_pre_eq                     260601 non-null  int64 \n",
      " 5   age                                     260601 non-null  int64 \n",
      " 6   area_percentage                         260601 non-null  int64 \n",
      " 7   height_percentage                       260601 non-null  int64 \n",
      " 8   land_surface_condition                  260601 non-null  object\n",
      " 9   foundation_type                         260601 non-null  object\n",
      " 10  roof_type                               260601 non-null  object\n",
      " 11  ground_floor_type                       260601 non-null  object\n",
      " 12  other_floor_type                        260601 non-null  object\n",
      " 13  position                                260601 non-null  object\n",
      " 14  plan_configuration                      260601 non-null  object\n",
      " 15  has_superstructure_adobe_mud            260601 non-null  int64 \n",
      " 16  has_superstructure_mud_mortar_stone     260601 non-null  int64 \n",
      " 17  has_superstructure_stone_flag           260601 non-null  int64 \n",
      " 18  has_superstructure_cement_mortar_stone  260601 non-null  int64 \n",
      " 19  has_superstructure_mud_mortar_brick     260601 non-null  int64 \n",
      " 20  has_superstructure_cement_mortar_brick  260601 non-null  int64 \n",
      " 21  has_superstructure_timber               260601 non-null  int64 \n",
      " 22  has_superstructure_bamboo               260601 non-null  int64 \n",
      " 23  has_superstructure_rc_non_engineered    260601 non-null  int64 \n",
      " 24  has_superstructure_rc_engineered        260601 non-null  int64 \n",
      " 25  has_superstructure_other                260601 non-null  int64 \n",
      " 26  legal_ownership_status                  260601 non-null  object\n",
      " 27  count_families                          260601 non-null  int64 \n",
      " 28  has_secondary_use                       260601 non-null  int64 \n",
      " 29  has_secondary_use_agriculture           260601 non-null  int64 \n",
      " 30  has_secondary_use_hotel                 260601 non-null  int64 \n",
      " 31  has_secondary_use_rental                260601 non-null  int64 \n",
      " 32  has_secondary_use_institution           260601 non-null  int64 \n",
      " 33  has_secondary_use_school                260601 non-null  int64 \n",
      " 34  has_secondary_use_industry              260601 non-null  int64 \n",
      " 35  has_secondary_use_health_post           260601 non-null  int64 \n",
      " 36  has_secondary_use_gov_office            260601 non-null  int64 \n",
      " 37  has_secondary_use_use_police            260601 non-null  int64 \n",
      " 38  has_secondary_use_other                 260601 non-null  int64 \n",
      " 39  damage_grade                            260601 non-null  int64 \n",
      "dtypes: int64(32), object(8)\n",
      "memory usage: 79.5+ MB\n"
     ]
    }
   ],
   "source": [
    "train_values.info()"
   ]
  },
  {
   "cell_type": "code",
   "execution_count": 12,
   "metadata": {},
   "outputs": [
    {
     "data": {
      "text/plain": [
       "np.False_"
      ]
     },
     "execution_count": 12,
     "metadata": {},
     "output_type": "execute_result"
    }
   ],
   "source": [
    "# Check if there is any missing values in the dataset\n",
    "train_values.isnull().any().any()"
   ]
  },
  {
   "cell_type": "markdown",
   "metadata": {},
   "source": [
    "### Data Exploration & Processing"
   ]
  },
  {
   "cell_type": "code",
   "execution_count": 5,
   "metadata": {},
   "outputs": [
    {
     "data": {
      "image/png": "[encoded data removed]",
      "text/plain": [
       "<Figure size 800x600 with 1 Axes>"
      ]
     },
     "metadata": {},
     "output_type": "display_data"
    }
   ],
   "source": [
    "#  plot the damage class\n",
    "plt.figure(figsize=(8, 6))\n",
    "train_values[\"damage_grade\"].value_counts(normalize=True).plot(kind='bar', color=\"darkblue\")\n",
    "plt.title(\"Distribution of Damage Grade\")\n",
    "plt.xlabel(\"Damage Grade\")\n",
    "plt.ylabel(\"Relative Frequency\")\n",
    "plt.show()"
   ]
  },
  {
   "cell_type": "code",
   "execution_count": 9,
   "metadata": {},
   "outputs": [
    {
     "data": {
      "image/png": "[encoded data removed]",
      "text/plain": [
       "<Figure size 640x480 with 1 Axes>"
      ]
     },
     "metadata": {},
     "output_type": "display_data"
    }
   ],
   "source": [
    "# another class distribution plot of the damage grade\n",
    "sns.countplot(data=train_values, x='damage_grade')\n",
    "plt.title('Distribution of Damage Grade')\n",
    "plt.xlabel('Damage Grade')\n",
    "plt.ylabel('Frequency');"
   ]
  },
  {
   "cell_type": "code",
   "execution_count": 10,
   "metadata": {},
   "outputs": [
    {
     "name": "stderr",
     "output_type": "stream",
     "text": [
      "C:\\Users\\Rodri\\AppData\\Local\\Temp\\ipykernel_14260\\180311825.py:2: FutureWarning: The provided callable <function mean at 0x000002AECE0DF9C0> is currently using DataFrameGroupBy.mean. In a future version of pandas, the provided callable will be used directly. To keep current behavior pass the string \"mean\" instead.\n",
      "  foundation_type_pivot = pd.pivot_table(\n"
     ]
    },
    {
     "data": {
      "application/vnd.microsoft.datawrangler.viewer.v0+json": {
       "columns": [
        {
         "name": "foundation_type",
         "rawType": "object",
         "type": "string"
        },
        {
         "name": "damage_grade",
         "rawType": "float64",
         "type": "float"
        }
       ],
       "conversionMethod": "pd.DataFrame",
       "ref": "64bd9c2b-bc50-4f8e-8bda-d610181e1602",
       "rows": [
        [
         "i",
         "1.4533509783533416"
        ],
        [
         "w",
         "1.810953829871676"
        ],
        [
         "u",
         "1.8836605890603086"
        ],
        [
         "h",
         "2.1056629834254146"
        ],
        [
         "r",
         "2.32957261993832"
        ]
       ],
       "shape": {
        "columns": 1,
        "rows": 5
       }
      },
      "text/html": [
       "<div>\n",
       "<style scoped>\n",
       "    .dataframe tbody tr th:only-of-type {\n",
       "        vertical-align: middle;\n",
       "    }\n",
       "\n",
       "    .dataframe tbody tr th {\n",
       "        vertical-align: top;\n",
       "    }\n",
       "\n",
       "    .dataframe thead th {\n",
       "        text-align: right;\n",
       "    }\n",
       "</style>\n",
       "<table border=\"1\" class=\"dataframe\">\n",
       "  <thead>\n",
       "    <tr style=\"text-align: right;\">\n",
       "      <th></th>\n",
       "      <th>damage_grade</th>\n",
       "    </tr>\n",
       "    <tr>\n",
       "      <th>foundation_type</th>\n",
       "      <th></th>\n",
       "    </tr>\n",
       "  </thead>\n",
       "  <tbody>\n",
       "    <tr>\n",
       "      <th>i</th>\n",
       "      <td>1.453351</td>\n",
       "    </tr>\n",
       "    <tr>\n",
       "      <th>w</th>\n",
       "      <td>1.810954</td>\n",
       "    </tr>\n",
       "    <tr>\n",
       "      <th>u</th>\n",
       "      <td>1.883661</td>\n",
       "    </tr>\n",
       "    <tr>\n",
       "      <th>h</th>\n",
       "      <td>2.105663</td>\n",
       "    </tr>\n",
       "    <tr>\n",
       "      <th>r</th>\n",
       "      <td>2.329573</td>\n",
       "    </tr>\n",
       "  </tbody>\n",
       "</table>\n",
       "</div>"
      ],
      "text/plain": [
       "                 damage_grade\n",
       "foundation_type              \n",
       "i                    1.453351\n",
       "w                    1.810954\n",
       "u                    1.883661\n",
       "h                    2.105663\n",
       "r                    2.329573"
      ]
     },
     "execution_count": 10,
     "metadata": {},
     "output_type": "execute_result"
    }
   ],
   "source": [
    "# foundation type pivot table to see the distribution of damage grade\n",
    "foundation_type_pivot = pd.pivot_table(\n",
    "    train_values, index=\"foundation_type\", values=\"damage_grade\", aggfunc=np.mean\n",
    "    ).sort_values(by=\"damage_grade\")\n",
    "foundation_type_pivot "
   ]
  },
  {
   "cell_type": "code",
   "execution_count": 11,
   "metadata": {},
   "outputs": [
    {
     "name": "stdout",
     "output_type": "stream",
     "text": [
      "Unique geo_level_1_id: 31\n",
      "Unique geo_level_2_id: 1414\n",
      "Unique geo_level_3_id: 11595\n"
     ]
    }
   ],
   "source": [
    "# Cardinaility features geo_level\n",
    "print(f\"Unique geo_level_1_id: {train_values['geo_level_1_id'].nunique()}\")\n",
    "print(f\"Unique geo_level_2_id: {train_values['geo_level_2_id'].nunique()}\")\n",
    "print(f\"Unique geo_level_3_id: {train_values['geo_level_3_id'].nunique()}\")"
   ]
  },
  {
   "cell_type": "code",
   "execution_count": null,
   "metadata": {},
   "outputs": [],
   "source": [
    "# Impute high cordiniality geo_level data\n",
    "train_mean = train_values[\"damage_grade\"].mean()\n",
    "\n",
    "# For geo_1\n",
    "geo1_mean = train_values.groupby(\"geo_level_1_id\")[\"damage_grade\"].mean().to_dict()\n",
    "train_values[\"geo_level_1_id\"] = train_values[\"geo_level_1_id\"].map(geo1_mean).fillna(train_mean)\n",
    "test_values[\"geo_level_1_id\"] = test_values[\"geo_level_1_id\"].map(geo1_mean).fillna(train_mean)\n",
    "\n",
    "# For geo_2\n",
    "geo2_mean = train_values.groupby(\"geo_level_2_id\")[\"damage_grade\"].mean().to_dict()\n",
    "train_values[\"geo_level_2_id\"] = train_values[\"geo_level_2_id\"].map(geo2_mean).fillna(train_mean)\n",
    "test_values[\"geo_level_2_id\"] = test_values[\"geo_level_2_id\"].map(geo2_mean).fillna(train_mean)\n",
    "\n",
    "# For geo_3\n",
    "geo3_mean = train_values.groupby(\"geo_level_3_id\")[\"damage_grade\"].mean().to_dict()\n",
    "train_values[\"geo_level_3_id\"] = train_values[\"geo_level_3_id\"].map(geo3_mean).fillna(train_mean)\n",
    "test_values[\"geo_level_3_id\"] = test_values[\"geo_level_3_id\"].map(geo3_mean).fillna(train_mean)"
   ]
  },
  {
   "cell_type": "code",
   "execution_count": 50,
   "metadata": {},
   "outputs": [],
   "source": [
    "# Turn to integer\n",
    "train_values[\"geo_level_1_id\"] = train_values[\"geo_level_1_id\"].round().astype(int)\n",
    "train_values[\"geo_level_2_id\"] = train_values[\"geo_level_2_id\"].round().astype(int)\n",
    "train_values[\"geo_level_3_id\"] = train_values[\"geo_level_3_id\"].round().astype(int)\n",
    "\n",
    "# Test values\n",
    "test_values[\"geo_level_1_id\"] = test_values[\"geo_level_1_id\"].round().astype(int)\n",
    "test_values[\"geo_level_2_id\"] = test_values[\"geo_level_2_id\"].round().astype(int)\n",
    "test_values[\"geo_level_3_id\"] = test_values[\"geo_level_3_id\"].round().astype(int)\n"
   ]
  },
  {
   "cell_type": "code",
   "execution_count": 51,
   "metadata": {},
   "outputs": [
    {
     "name": "stdout",
     "output_type": "stream",
     "text": [
      "Unique geo_level_1_id: 2\n",
      "Unique geo_level_2_id: 3\n",
      "Unique geo_level_3_id: 3\n",
      "0    3\n",
      "1    2\n",
      "2    3\n",
      "3    2\n",
      "4    2\n",
      "Name: geo_level_3_id, dtype: int64\n"
     ]
    }
   ],
   "source": [
    "# test geo level cordiniality\n",
    "print(f\"Unique geo_level_1_id: {train_values['geo_level_1_id'].nunique()}\")\n",
    "print(f\"Unique geo_level_2_id: {train_values['geo_level_2_id'].nunique()}\")\n",
    "print(f\"Unique geo_level_3_id: {train_values['geo_level_3_id'].nunique()}\")\n",
    "print(train_values[\"geo_level_3_id\"].head())"
   ]
  },
  {
   "cell_type": "code",
   "execution_count": 65,
   "metadata": {},
   "outputs": [
    {
     "name": "stdout",
     "output_type": "stream",
     "text": [
      "Correlation between geo3 and grade damage is: 0.552\n"
     ]
    }
   ],
   "source": [
    "# check for correlation between grade damage and geo level 3 id\n",
    "correlation_level3 = train_values[\"geo_level_3_id\"].corr(train_values[\"damage_grade\"])\n",
    "\n",
    "print(f\"Correlation between geo3 and grade damage is: {correlation_level3:0.3}\")"
   ]
  },
  {
   "cell_type": "code",
   "execution_count": 20,
   "metadata": {},
   "outputs": [
    {
     "data": {
      "image/png": "[encoded data removed]",
      "text/plain": [
       "<Figure size 1200x600 with 6 Axes>"
      ]
     },
     "metadata": {},
     "output_type": "display_data"
    }
   ],
   "source": [
    "#  Cordiniality categorical features\n",
    "cols = [\"land_surface_condition\", \"foundation_type\", \"roof_type\", \"ground_floor_type\", \"other_floor_type\", \"position\"]\n",
    "n_rows = 2\n",
    "n_cols = (len(cols) + 1) // n_rows\n",
    "\n",
    "# crite fig size and axes\n",
    "\n",
    "fig, axes = plt.subplots(n_rows, n_cols, figsize=(12, 6))\n",
    "axes = axes.flatten()\n",
    "\n",
    "for i, col in enumerate(cols):\n",
    "    sns.countplot(data=train_values, x=col, hue='damage_grade', ax=axes[i])\n",
    "    axes[i].set_title(f\"Damage Grade by {col}\")\n",
    "    plt.xticks(rotation=45)\n",
    "\n",
    "# Hide any unused subplots\n",
    "for j in range(i + 1, len(axes)):\n",
    "    fig.delaxes(axes[j])\n",
    "\n",
    "plt.tight_layout()\n",
    "plt.subplots_adjust(hspace=0.4, wspace=0.6)\n",
    "plt.show();"
   ]
  },
  {
   "cell_type": "code",
   "execution_count": 21,
   "metadata": {},
   "outputs": [
    {
     "data": {
      "image/png": "[encoded data removed]",
      "text/plain": [
       "<Figure size 1200x1000 with 4 Axes>"
      ]
     },
     "metadata": {},
     "output_type": "display_data"
    }
   ],
   "source": [
    "## Distribution & outlier\n",
    "num_cols = [\"age\", \"count_floors_pre_eq\", \"area_percentage\", \"height_percentage\"]\n",
    "train_values[num_cols].hist(bins=50, figsize=(12, 10), color='darkblue');"
   ]
  },
  {
   "cell_type": "code",
   "execution_count": 70,
   "metadata": {},
   "outputs": [],
   "source": [
    "# Put age gap\n",
    "age_gap = train_values[\"age\"].quantile(0.99)\n",
    "train_values[\"age\"] = train_values[\"age\"].clip(upper=age_gap)"
   ]
  },
  {
   "cell_type": "code",
   "execution_count": 72,
   "metadata": {},
   "outputs": [],
   "source": [
    "# on test data too\n",
    "test_values[\"age\"] = test_values[\"age\"].clip(upper=age_gap)"
   ]
  },
  {
   "cell_type": "code",
   "execution_count": 71,
   "metadata": {},
   "outputs": [
    {
     "data": {
      "image/png": "[encoded data removed]",
      "text/plain": [
       "<Figure size 640x480 with 1 Axes>"
      ]
     },
     "metadata": {},
     "output_type": "display_data"
    }
   ],
   "source": [
    "# check the range of the new age\n",
    "train_values[\"age\"].hist(bins=50, color=\"darkblue\");"
   ]
  },
  {
   "cell_type": "code",
   "execution_count": 73,
   "metadata": {},
   "outputs": [
    {
     "name": "stdout",
     "output_type": "stream",
     "text": [
      "Shape train: (260601, 40)\n",
      "Shape test: (86868, 39)\n"
     ]
    }
   ],
   "source": [
    "print(f\"Shape train: {train_values.shape}\")\n",
    "print(f\"Shape test: {test_values.shape}\")"
   ]
  },
  {
   "cell_type": "code",
   "execution_count": 74,
   "metadata": {},
   "outputs": [
    {
     "data": {
      "application/vnd.microsoft.datawrangler.viewer.v0+json": {
       "columns": [
        {
         "name": "index",
         "rawType": "object",
         "type": "string"
        },
        {
         "name": "age",
         "rawType": "float64",
         "type": "float"
        },
        {
         "name": "count_floors_pre_eq",
         "rawType": "float64",
         "type": "float"
        },
        {
         "name": "area_percentage",
         "rawType": "float64",
         "type": "float"
        },
        {
         "name": "height_percentage",
         "rawType": "float64",
         "type": "float"
        }
       ],
       "conversionMethod": "pd.DataFrame",
       "ref": "39788b9a-795b-423f-b8da-d6599b866d70",
       "rows": [
        [
         "count",
         "260601.0",
         "260601.0",
         "260601.0",
         "260601.0"
        ],
        [
         "mean",
         "21.656229254684366",
         "2.1297232167182782",
         "8.018050583075276",
         "5.43436517895173"
        ],
        [
         "std",
         "19.800348610666454",
         "0.727664545287313",
         "4.392230935893617",
         "1.9184182207479887"
        ],
        [
         "min",
         "0.0",
         "1.0",
         "1.0",
         "2.0"
        ],
        [
         "25%",
         "10.0",
         "2.0",
         "5.0",
         "4.0"
        ],
        [
         "50%",
         "15.0",
         "2.0",
         "7.0",
         "5.0"
        ],
        [
         "75%",
         "30.0",
         "2.0",
         "9.0",
         "6.0"
        ],
        [
         "max",
         "100.0",
         "9.0",
         "100.0",
         "32.0"
        ]
       ],
       "shape": {
        "columns": 4,
        "rows": 8
       }
      },
      "text/html": [
       "<div>\n",
       "<style scoped>\n",
       "    .dataframe tbody tr th:only-of-type {\n",
       "        vertical-align: middle;\n",
       "    }\n",
       "\n",
       "    .dataframe tbody tr th {\n",
       "        vertical-align: top;\n",
       "    }\n",
       "\n",
       "    .dataframe thead th {\n",
       "        text-align: right;\n",
       "    }\n",
       "</style>\n",
       "<table border=\"1\" class=\"dataframe\">\n",
       "  <thead>\n",
       "    <tr style=\"text-align: right;\">\n",
       "      <th></th>\n",
       "      <th>age</th>\n",
       "      <th>count_floors_pre_eq</th>\n",
       "      <th>area_percentage</th>\n",
       "      <th>height_percentage</th>\n",
       "    </tr>\n",
       "  </thead>\n",
       "  <tbody>\n",
       "    <tr>\n",
       "      <th>count</th>\n",
       "      <td>260601.000000</td>\n",
       "      <td>260601.000000</td>\n",
       "      <td>260601.000000</td>\n",
       "      <td>260601.000000</td>\n",
       "    </tr>\n",
       "    <tr>\n",
       "      <th>mean</th>\n",
       "      <td>21.656229</td>\n",
       "      <td>2.129723</td>\n",
       "      <td>8.018051</td>\n",
       "      <td>5.434365</td>\n",
       "    </tr>\n",
       "    <tr>\n",
       "      <th>std</th>\n",
       "      <td>19.800349</td>\n",
       "      <td>0.727665</td>\n",
       "      <td>4.392231</td>\n",
       "      <td>1.918418</td>\n",
       "    </tr>\n",
       "    <tr>\n",
       "      <th>min</th>\n",
       "      <td>0.000000</td>\n",
       "      <td>1.000000</td>\n",
       "      <td>1.000000</td>\n",
       "      <td>2.000000</td>\n",
       "    </tr>\n",
       "    <tr>\n",
       "      <th>25%</th>\n",
       "      <td>10.000000</td>\n",
       "      <td>2.000000</td>\n",
       "      <td>5.000000</td>\n",
       "      <td>4.000000</td>\n",
       "    </tr>\n",
       "    <tr>\n",
       "      <th>50%</th>\n",
       "      <td>15.000000</td>\n",
       "      <td>2.000000</td>\n",
       "      <td>7.000000</td>\n",
       "      <td>5.000000</td>\n",
       "    </tr>\n",
       "    <tr>\n",
       "      <th>75%</th>\n",
       "      <td>30.000000</td>\n",
       "      <td>2.000000</td>\n",
       "      <td>9.000000</td>\n",
       "      <td>6.000000</td>\n",
       "    </tr>\n",
       "    <tr>\n",
       "      <th>max</th>\n",
       "      <td>100.000000</td>\n",
       "      <td>9.000000</td>\n",
       "      <td>100.000000</td>\n",
       "      <td>32.000000</td>\n",
       "    </tr>\n",
       "  </tbody>\n",
       "</table>\n",
       "</div>"
      ],
      "text/plain": [
       "                 age  count_floors_pre_eq  area_percentage  height_percentage\n",
       "count  260601.000000        260601.000000    260601.000000      260601.000000\n",
       "mean       21.656229             2.129723         8.018051           5.434365\n",
       "std        19.800349             0.727665         4.392231           1.918418\n",
       "min         0.000000             1.000000         1.000000           2.000000\n",
       "25%        10.000000             2.000000         5.000000           4.000000\n",
       "50%        15.000000             2.000000         7.000000           5.000000\n",
       "75%        30.000000             2.000000         9.000000           6.000000\n",
       "max       100.000000             9.000000       100.000000          32.000000"
      ]
     },
     "execution_count": 74,
     "metadata": {},
     "output_type": "execute_result"
    }
   ],
   "source": [
    "train_values[num_cols].describe()"
   ]
  },
  {
   "cell_type": "code",
   "execution_count": 75,
   "metadata": {},
   "outputs": [
    {
     "data": {
      "image/png": "[encoded data removed]",
      "text/plain": [
       "<Figure size 640x480 with 1 Axes>"
      ]
     },
     "metadata": {},
     "output_type": "display_data"
    }
   ],
   "source": [
    "# Correlation with target\n",
    "sns.boxplot(data=train_values, x='damage_grade', y='age', color='lightpink')\n",
    "plt.title('Age vs Damage Grade');"
   ]
  },
  {
   "cell_type": "code",
   "execution_count": 31,
   "metadata": {},
   "outputs": [
    {
     "data": {
      "text/plain": [
       "<Axes: xlabel='damage_grade', ylabel='area_percentage'>"
      ]
     },
     "execution_count": 31,
     "metadata": {},
     "output_type": "execute_result"
    },
    {
     "data": {
      "image/png": "[encoded data removed]",
      "text/plain": [
       "<Figure size 640x480 with 1 Axes>"
      ]
     },
     "metadata": {},
     "output_type": "display_data"
    }
   ],
   "source": [
    "# Count area percentage damage grade\n",
    "sns.boxplot(data=train_values, x='damage_grade', y='area_percentage', color='darkblue')"
   ]
  },
  {
   "cell_type": "code",
   "execution_count": 32,
   "metadata": {},
   "outputs": [
    {
     "name": "stdout",
     "output_type": "stream",
     "text": [
      "\n",
      " Damage Grade where has_superstructure_adobe_mud is 1:\n",
      "damage_grade\n",
      "2    0.601792\n",
      "3    0.372495\n",
      "1    0.025713\n",
      "Name: proportion, dtype: float64\n",
      "\n",
      " Damage Grade where has_superstructure_mud_mortar_stone is 1:\n",
      "damage_grade\n",
      "2    0.573864\n",
      "3    0.382019\n",
      "1    0.044117\n",
      "Name: proportion, dtype: float64\n",
      "\n",
      " Damage Grade where has_superstructure_stone_flag is 1:\n",
      "damage_grade\n",
      "2    0.506762\n",
      "3    0.472896\n",
      "1    0.020342\n",
      "Name: proportion, dtype: float64\n",
      "\n",
      " Damage Grade where has_superstructure_cement_mortar_stone is 1:\n",
      "damage_grade\n",
      "2    0.683502\n",
      "1    0.174453\n",
      "3    0.142045\n",
      "Name: proportion, dtype: float64\n",
      "\n",
      " Damage Grade where has_superstructure_mud_mortar_brick is 1:\n",
      "damage_grade\n",
      "2    0.658634\n",
      "3    0.306289\n",
      "1    0.035077\n",
      "Name: proportion, dtype: float64\n",
      "\n",
      " Damage Grade where has_superstructure_cement_mortar_brick is 1:\n",
      "damage_grade\n",
      "2    0.582258\n",
      "1    0.362223\n",
      "3    0.055519\n",
      "Name: proportion, dtype: float64\n",
      "\n",
      " Damage Grade where has_superstructure_timber is 1:\n",
      "damage_grade\n",
      "2    0.604771\n",
      "3    0.280226\n",
      "1    0.115004\n",
      "Name: proportion, dtype: float64\n",
      "\n",
      " Damage Grade where has_superstructure_bamboo is 1:\n",
      "damage_grade\n",
      "2    0.631985\n",
      "3    0.239866\n",
      "1    0.128148\n",
      "Name: proportion, dtype: float64\n",
      "\n",
      " Damage Grade where has_superstructure_rc_non_engineered is 1:\n",
      "damage_grade\n",
      "2    0.525453\n",
      "1    0.347509\n",
      "3    0.127038\n",
      "Name: proportion, dtype: float64\n",
      "\n",
      " Damage Grade where has_superstructure_rc_engineered is 1:\n",
      "damage_grade\n",
      "1    0.642632\n",
      "2    0.339221\n",
      "3    0.018147\n",
      "Name: proportion, dtype: float64\n",
      "\n",
      " Damage Grade where has_superstructure_other is 1:\n",
      "damage_grade\n",
      "2    0.575672\n",
      "3    0.256338\n",
      "1    0.167990\n",
      "Name: proportion, dtype: float64\n"
     ]
    }
   ],
   "source": [
    "# Supperstricture flags\n",
    "superstructure_cols =[c for c in train_values.columns if \"has_superstructure_\" in c]\n",
    "for col in superstructure_cols:\n",
    "    print(f\"\\n Damage Grade where {col} is 1:\")\n",
    "    print(train_values[train_values[col]==1]['damage_grade'].value_counts(normalize=True))"
   ]
  },
  {
   "cell_type": "code",
   "execution_count": 36,
   "metadata": {},
   "outputs": [
    {
     "data": {
      "text/html": [
       "<style type=\"text/css\">\n",
       "#T_c5999_row0_col0, #T_c5999_row19_col0 {\n",
       "  background-color: #fcaa8d;\n",
       "  color: #000000;\n",
       "}\n",
       "#T_c5999_row0_col1, #T_c5999_row24_col1, #T_c5999_row27_col1 {\n",
       "  background-color: #fb7a5a;\n",
       "  color: #f1f1f1;\n",
       "}\n",
       "#T_c5999_row1_col0 {\n",
       "  background-color: #fdc9b3;\n",
       "  color: #000000;\n",
       "}\n",
       "#T_c5999_row1_col1, #T_c5999_row18_col1 {\n",
       "  background-color: #fdcbb6;\n",
       "  color: #000000;\n",
       "}\n",
       "#T_c5999_row2_col0 {\n",
       "  background-color: #fc8767;\n",
       "  color: #f1f1f1;\n",
       "}\n",
       "#T_c5999_row2_col1 {\n",
       "  background-color: #fdc7b2;\n",
       "  color: #000000;\n",
       "}\n",
       "#T_c5999_row3_col0 {\n",
       "  background-color: #f5523a;\n",
       "  color: #f1f1f1;\n",
       "}\n",
       "#T_c5999_row3_col1 {\n",
       "  background-color: #fc9e80;\n",
       "  color: #000000;\n",
       "}\n",
       "#T_c5999_row4_col0 {\n",
       "  background-color: #fc8b6b;\n",
       "  color: #f1f1f1;\n",
       "}\n",
       "#T_c5999_row4_col1 {\n",
       "  background-color: #fcb499;\n",
       "  color: #000000;\n",
       "}\n",
       "#T_c5999_row5_col0 {\n",
       "  background-color: #fdd4c2;\n",
       "  color: #000000;\n",
       "}\n",
       "#T_c5999_row5_col1 {\n",
       "  background-color: #fc9c7d;\n",
       "  color: #000000;\n",
       "}\n",
       "#T_c5999_row6_col0 {\n",
       "  background-color: #fc8161;\n",
       "  color: #f1f1f1;\n",
       "}\n",
       "#T_c5999_row6_col1, #T_c5999_row26_col0 {\n",
       "  background-color: #fff5f0;\n",
       "  color: #000000;\n",
       "}\n",
       "#T_c5999_row7_col0 {\n",
       "  background-color: #f85f43;\n",
       "  color: #f1f1f1;\n",
       "}\n",
       "#T_c5999_row7_col1 {\n",
       "  background-color: #fca98c;\n",
       "  color: #000000;\n",
       "}\n",
       "#T_c5999_row8_col0 {\n",
       "  background-color: #d52221;\n",
       "  color: #f1f1f1;\n",
       "}\n",
       "#T_c5999_row8_col1 {\n",
       "  background-color: #fcbca2;\n",
       "  color: #000000;\n",
       "}\n",
       "#T_c5999_row9_col0 {\n",
       "  background-color: #fcb095;\n",
       "  color: #000000;\n",
       "}\n",
       "#T_c5999_row9_col1 {\n",
       "  background-color: #fca588;\n",
       "  color: #000000;\n",
       "}\n",
       "#T_c5999_row10_col0 {\n",
       "  background-color: #f34c37;\n",
       "  color: #f1f1f1;\n",
       "}\n",
       "#T_c5999_row10_col1 {\n",
       "  background-color: #feeae1;\n",
       "  color: #000000;\n",
       "}\n",
       "#T_c5999_row11_col0 {\n",
       "  background-color: #f44d38;\n",
       "  color: #f1f1f1;\n",
       "}\n",
       "#T_c5999_row11_col1 {\n",
       "  background-color: #fed9c9;\n",
       "  color: #000000;\n",
       "}\n",
       "#T_c5999_row12_col0 {\n",
       "  background-color: #fc8f6f;\n",
       "  color: #000000;\n",
       "}\n",
       "#T_c5999_row12_col1 {\n",
       "  background-color: #c7171c;\n",
       "  color: #f1f1f1;\n",
       "}\n",
       "#T_c5999_row13_col0, #T_c5999_row20_col0 {\n",
       "  background-color: #fdd0bc;\n",
       "  color: #000000;\n",
       "}\n",
       "#T_c5999_row13_col1 {\n",
       "  background-color: #fdd2bf;\n",
       "  color: #000000;\n",
       "}\n",
       "#T_c5999_row14_col0 {\n",
       "  background-color: #fcaf93;\n",
       "  color: #000000;\n",
       "}\n",
       "#T_c5999_row14_col1, #T_c5999_row19_col1, #T_c5999_row23_col1 {\n",
       "  background-color: #fcae92;\n",
       "  color: #000000;\n",
       "}\n",
       "#T_c5999_row15_col0 {\n",
       "  background-color: #fc9474;\n",
       "  color: #000000;\n",
       "}\n",
       "#T_c5999_row15_col1, #T_c5999_row28_col1, #T_c5999_row29_col1 {\n",
       "  background-color: #000000;\n",
       "  color: #f1f1f1;\n",
       "}\n",
       "#T_c5999_row16_col0 {\n",
       "  background-color: #fc8a6a;\n",
       "  color: #f1f1f1;\n",
       "}\n",
       "#T_c5999_row16_col1, #T_c5999_row17_col0 {\n",
       "  background-color: #67000d;\n",
       "  color: #f1f1f1;\n",
       "}\n",
       "#T_c5999_row17_col1 {\n",
       "  background-color: #f44f39;\n",
       "  color: #f1f1f1;\n",
       "}\n",
       "#T_c5999_row18_col0 {\n",
       "  background-color: #8a0812;\n",
       "  color: #f1f1f1;\n",
       "}\n",
       "#T_c5999_row20_col1 {\n",
       "  background-color: #fee6da;\n",
       "  color: #000000;\n",
       "}\n",
       "#T_c5999_row21_col0 {\n",
       "  background-color: #c2161b;\n",
       "  color: #f1f1f1;\n",
       "}\n",
       "#T_c5999_row21_col1, #T_c5999_row25_col0 {\n",
       "  background-color: #fcab8f;\n",
       "  color: #000000;\n",
       "}\n",
       "#T_c5999_row22_col0 {\n",
       "  background-color: #fcbba1;\n",
       "  color: #000000;\n",
       "}\n",
       "#T_c5999_row22_col1 {\n",
       "  background-color: #fdc6b0;\n",
       "  color: #000000;\n",
       "}\n",
       "#T_c5999_row23_col0 {\n",
       "  background-color: #fc8565;\n",
       "  color: #f1f1f1;\n",
       "}\n",
       "#T_c5999_row24_col0 {\n",
       "  background-color: #fedccd;\n",
       "  color: #000000;\n",
       "}\n",
       "#T_c5999_row25_col1 {\n",
       "  background-color: #fb7d5d;\n",
       "  color: #f1f1f1;\n",
       "}\n",
       "#T_c5999_row26_col1 {\n",
       "  background-color: #fee8de;\n",
       "  color: #000000;\n",
       "}\n",
       "#T_c5999_row27_col0 {\n",
       "  background-color: #de2b25;\n",
       "  color: #f1f1f1;\n",
       "}\n",
       "#T_c5999_row28_col0 {\n",
       "  background-color: #ee3a2c;\n",
       "  color: #f1f1f1;\n",
       "}\n",
       "#T_c5999_row29_col0 {\n",
       "  background-color: #fca689;\n",
       "  color: #000000;\n",
       "}\n",
       "#T_c5999_row30_col0 {\n",
       "  background-color: #fcb79c;\n",
       "  color: #000000;\n",
       "}\n",
       "#T_c5999_row30_col1 {\n",
       "  background-color: #fdd3c1;\n",
       "  color: #000000;\n",
       "}\n",
       "</style>\n",
       "<table id=\"T_c5999\">\n",
       "  <thead>\n",
       "    <tr>\n",
       "      <th class=\"index_name level0\" >has_superstructure_rc_engineered</th>\n",
       "      <th id=\"T_c5999_level0_col0\" class=\"col_heading level0 col0\" >0</th>\n",
       "      <th id=\"T_c5999_level0_col1\" class=\"col_heading level0 col1\" >1</th>\n",
       "    </tr>\n",
       "    <tr>\n",
       "      <th class=\"index_name level0\" >geo_level_1_id</th>\n",
       "      <th class=\"blank col0\" >&nbsp;</th>\n",
       "      <th class=\"blank col1\" >&nbsp;</th>\n",
       "    </tr>\n",
       "  </thead>\n",
       "  <tbody>\n",
       "    <tr>\n",
       "      <th id=\"T_c5999_level0_row0\" class=\"row_heading level0 row0\" >0</th>\n",
       "      <td id=\"T_c5999_row0_col0\" class=\"data row0 col0\" >2.065918</td>\n",
       "      <td id=\"T_c5999_row0_col1\" class=\"data row0 col1\" >1.666667</td>\n",
       "    </tr>\n",
       "    <tr>\n",
       "      <th id=\"T_c5999_level0_row1\" class=\"row_heading level0 row1\" >1</th>\n",
       "      <td id=\"T_c5999_row1_col0\" class=\"data row1 col0\" >1.962839</td>\n",
       "      <td id=\"T_c5999_row1_col1\" class=\"data row1 col1\" >1.400000</td>\n",
       "    </tr>\n",
       "    <tr>\n",
       "      <th id=\"T_c5999_level0_row2\" class=\"row_heading level0 row2\" >2</th>\n",
       "      <td id=\"T_c5999_row2_col0\" class=\"data row2 col0\" >2.176149</td>\n",
       "      <td id=\"T_c5999_row2_col1\" class=\"data row2 col1\" >1.411765</td>\n",
       "    </tr>\n",
       "    <tr>\n",
       "      <th id=\"T_c5999_level0_row3\" class=\"row_heading level0 row3\" >3</th>\n",
       "      <td id=\"T_c5999_row3_col0\" class=\"data row3 col0\" >2.344432</td>\n",
       "      <td id=\"T_c5999_row3_col1\" class=\"data row3 col1\" >1.549180</td>\n",
       "    </tr>\n",
       "    <tr>\n",
       "      <th id=\"T_c5999_level0_row4\" class=\"row_heading level0 row4\" >4</th>\n",
       "      <td id=\"T_c5999_row4_col0\" class=\"data row4 col0\" >2.164211</td>\n",
       "      <td id=\"T_c5999_row4_col1\" class=\"data row4 col1\" >1.477273</td>\n",
       "    </tr>\n",
       "    <tr>\n",
       "      <th id=\"T_c5999_level0_row5\" class=\"row_heading level0 row5\" >5</th>\n",
       "      <td id=\"T_c5999_row5_col0\" class=\"data row5 col0\" >1.920925</td>\n",
       "      <td id=\"T_c5999_row5_col1\" class=\"data row5 col1\" >1.555556</td>\n",
       "    </tr>\n",
       "    <tr>\n",
       "      <th id=\"T_c5999_level0_row6\" class=\"row_heading level0 row6\" >6</th>\n",
       "      <td id=\"T_c5999_row6_col0\" class=\"data row6 col0\" >2.196745</td>\n",
       "      <td id=\"T_c5999_row6_col1\" class=\"data row6 col1\" >1.189858</td>\n",
       "    </tr>\n",
       "    <tr>\n",
       "      <th id=\"T_c5999_level0_row7\" class=\"row_heading level0 row7\" >7</th>\n",
       "      <td id=\"T_c5999_row7_col0\" class=\"data row7 col0\" >2.307532</td>\n",
       "      <td id=\"T_c5999_row7_col1\" class=\"data row7 col1\" >1.514894</td>\n",
       "    </tr>\n",
       "    <tr>\n",
       "      <th id=\"T_c5999_level0_row8\" class=\"row_heading level0 row8\" >8</th>\n",
       "      <td id=\"T_c5999_row8_col0\" class=\"data row8 col0\" >2.499283</td>\n",
       "      <td id=\"T_c5999_row8_col1\" class=\"data row8 col1\" >1.450980</td>\n",
       "    </tr>\n",
       "    <tr>\n",
       "      <th id=\"T_c5999_level0_row9\" class=\"row_heading level0 row9\" >9</th>\n",
       "      <td id=\"T_c5999_row9_col0\" class=\"data row9 col0\" >2.047142</td>\n",
       "      <td id=\"T_c5999_row9_col1\" class=\"data row9 col1\" >1.527950</td>\n",
       "    </tr>\n",
       "    <tr>\n",
       "      <th id=\"T_c5999_level0_row10\" class=\"row_heading level0 row10\" >10</th>\n",
       "      <td id=\"T_c5999_row10_col0\" class=\"data row10 col0\" >2.360734</td>\n",
       "      <td id=\"T_c5999_row10_col1\" class=\"data row10 col1\" >1.257979</td>\n",
       "    </tr>\n",
       "    <tr>\n",
       "      <th id=\"T_c5999_level0_row11\" class=\"row_heading level0 row11\" >11</th>\n",
       "      <td id=\"T_c5999_row11_col0\" class=\"data row11 col0\" >2.353858</td>\n",
       "      <td id=\"T_c5999_row11_col1\" class=\"data row11 col1\" >1.348485</td>\n",
       "    </tr>\n",
       "    <tr>\n",
       "      <th id=\"T_c5999_level0_row12\" class=\"row_heading level0 row12\" >12</th>\n",
       "      <td id=\"T_c5999_row12_col0\" class=\"data row12 col0\" >2.152256</td>\n",
       "      <td id=\"T_c5999_row12_col1\" class=\"data row12 col1\" >2.000000</td>\n",
       "    </tr>\n",
       "    <tr>\n",
       "      <th id=\"T_c5999_level0_row13\" class=\"row_heading level0 row13\" >13</th>\n",
       "      <td id=\"T_c5999_row13_col0\" class=\"data row13 col0\" >1.939065</td>\n",
       "      <td id=\"T_c5999_row13_col1\" class=\"data row13 col1\" >1.375000</td>\n",
       "    </tr>\n",
       "    <tr>\n",
       "      <th id=\"T_c5999_level0_row14\" class=\"row_heading level0 row14\" >14</th>\n",
       "      <td id=\"T_c5999_row14_col0\" class=\"data row14 col0\" >2.050234</td>\n",
       "      <td id=\"T_c5999_row14_col1\" class=\"data row14 col1\" >1.500000</td>\n",
       "    </tr>\n",
       "    <tr>\n",
       "      <th id=\"T_c5999_level0_row15\" class=\"row_heading level0 row15\" >15</th>\n",
       "      <td id=\"T_c5999_row15_col0\" class=\"data row15 col0\" >2.138362</td>\n",
       "      <td id=\"T_c5999_row15_col1\" class=\"data row15 col1\" >nan</td>\n",
       "    </tr>\n",
       "    <tr>\n",
       "      <th id=\"T_c5999_level0_row16\" class=\"row_heading level0 row16\" >16</th>\n",
       "      <td id=\"T_c5999_row16_col0\" class=\"data row16 col0\" >2.171673</td>\n",
       "      <td id=\"T_c5999_row16_col1\" class=\"data row16 col1\" >2.250000</td>\n",
       "    </tr>\n",
       "    <tr>\n",
       "      <th id=\"T_c5999_level0_row17\" class=\"row_heading level0 row17\" >17</th>\n",
       "      <td id=\"T_c5999_row17_col0\" class=\"data row17 col0\" >2.801718</td>\n",
       "      <td id=\"T_c5999_row17_col1\" class=\"data row17 col1\" >1.796178</td>\n",
       "    </tr>\n",
       "    <tr>\n",
       "      <th id=\"T_c5999_level0_row18\" class=\"row_heading level0 row18\" >18</th>\n",
       "      <td id=\"T_c5999_row18_col0\" class=\"data row18 col0\" >2.724992</td>\n",
       "      <td id=\"T_c5999_row18_col1\" class=\"data row18 col1\" >1.400000</td>\n",
       "    </tr>\n",
       "    <tr>\n",
       "      <th id=\"T_c5999_level0_row19\" class=\"row_heading level0 row19\" >19</th>\n",
       "      <td id=\"T_c5999_row19_col0\" class=\"data row19 col0\" >2.064865</td>\n",
       "      <td id=\"T_c5999_row19_col1\" class=\"data row19 col1\" >1.500000</td>\n",
       "    </tr>\n",
       "    <tr>\n",
       "      <th id=\"T_c5999_level0_row20\" class=\"row_heading level0 row20\" >20</th>\n",
       "      <td id=\"T_c5999_row20_col0\" class=\"data row20 col0\" >1.937109</td>\n",
       "      <td id=\"T_c5999_row20_col1\" class=\"data row20 col1\" >1.287234</td>\n",
       "    </tr>\n",
       "    <tr>\n",
       "      <th id=\"T_c5999_level0_row21\" class=\"row_heading level0 row21\" >21</th>\n",
       "      <td id=\"T_c5999_row21_col0\" class=\"data row21 col0\" >2.568430</td>\n",
       "      <td id=\"T_c5999_row21_col1\" class=\"data row21 col1\" >1.507042</td>\n",
       "    </tr>\n",
       "    <tr>\n",
       "      <th id=\"T_c5999_level0_row22\" class=\"row_heading level0 row22\" >22</th>\n",
       "      <td id=\"T_c5999_row22_col0\" class=\"data row22 col0\" >2.011230</td>\n",
       "      <td id=\"T_c5999_row22_col1\" class=\"data row22 col1\" >1.416667</td>\n",
       "    </tr>\n",
       "    <tr>\n",
       "      <th id=\"T_c5999_level0_row23\" class=\"row_heading level0 row23\" >23</th>\n",
       "      <td id=\"T_c5999_row23_col0\" class=\"data row23 col0\" >2.187668</td>\n",
       "      <td id=\"T_c5999_row23_col1\" class=\"data row23 col1\" >1.500000</td>\n",
       "    </tr>\n",
       "    <tr>\n",
       "      <th id=\"T_c5999_level0_row24\" class=\"row_heading level0 row24\" >24</th>\n",
       "      <td id=\"T_c5999_row24_col0\" class=\"data row24 col0\" >1.895180</td>\n",
       "      <td id=\"T_c5999_row24_col1\" class=\"data row24 col1\" >1.666667</td>\n",
       "    </tr>\n",
       "    <tr>\n",
       "      <th id=\"T_c5999_level0_row25\" class=\"row_heading level0 row25\" >25</th>\n",
       "      <td id=\"T_c5999_row25_col0\" class=\"data row25 col0\" >2.061391</td>\n",
       "      <td id=\"T_c5999_row25_col1\" class=\"data row25 col1\" >1.656863</td>\n",
       "    </tr>\n",
       "    <tr>\n",
       "      <th id=\"T_c5999_level0_row26\" class=\"row_heading level0 row26\" >26</th>\n",
       "      <td id=\"T_c5999_row26_col0\" class=\"data row26 col0\" >1.747571</td>\n",
       "      <td id=\"T_c5999_row26_col1\" class=\"data row26 col1\" >1.270544</td>\n",
       "    </tr>\n",
       "    <tr>\n",
       "      <th id=\"T_c5999_level0_row27\" class=\"row_heading level0 row27\" >27</th>\n",
       "      <td id=\"T_c5999_row27_col0\" class=\"data row27 col0\" >2.466089</td>\n",
       "      <td id=\"T_c5999_row27_col1\" class=\"data row27 col1\" >1.669903</td>\n",
       "    </tr>\n",
       "    <tr>\n",
       "      <th id=\"T_c5999_level0_row28\" class=\"row_heading level0 row28\" >28</th>\n",
       "      <td id=\"T_c5999_row28_col0\" class=\"data row28 col0\" >2.407547</td>\n",
       "      <td id=\"T_c5999_row28_col1\" class=\"data row28 col1\" >nan</td>\n",
       "    </tr>\n",
       "    <tr>\n",
       "      <th id=\"T_c5999_level0_row29\" class=\"row_heading level0 row29\" >29</th>\n",
       "      <td id=\"T_c5999_row29_col0\" class=\"data row29 col0\" >2.078283</td>\n",
       "      <td id=\"T_c5999_row29_col1\" class=\"data row29 col1\" >nan</td>\n",
       "    </tr>\n",
       "    <tr>\n",
       "      <th id=\"T_c5999_level0_row30\" class=\"row_heading level0 row30\" >30</th>\n",
       "      <td id=\"T_c5999_row30_col0\" class=\"data row30 col0\" >2.025122</td>\n",
       "      <td id=\"T_c5999_row30_col1\" class=\"data row30 col1\" >1.368421</td>\n",
       "    </tr>\n",
       "  </tbody>\n",
       "</table>\n"
      ],
      "text/plain": [
       "<pandas.io.formats.style.Styler at 0x2aedc8a8bd0>"
      ]
     },
     "execution_count": 36,
     "metadata": {},
     "output_type": "execute_result"
    }
   ],
   "source": [
    "# Feature interactions (Geo level + Material combo)\n",
    "pd.crosstab(\n",
    "    index=train_values['geo_level_1_id'], \n",
    "    columns=train_values['has_superstructure_rc_engineered'], \n",
    "    values=train_values['damage_grade'],\n",
    "    aggfunc='mean'\n",
    "    ).style.background_gradient(cmap='Reds')"
   ]
  },
  {
   "cell_type": "code",
   "execution_count": 98,
   "metadata": {},
   "outputs": [],
   "source": [
    "#  convert categorical columns to 'category' dtype\n",
    "categorical_cols = [\n",
    "    \"land_surface_condition\", \"foundation_type\", \"roof_type\",\n",
    "    \"ground_floor_type\", \"other_floor_type\", \"position\", \"legal_ownership_status\",\n",
    "    \"plan_configuration\"\n",
    "]\n",
    "\n",
    "for col in categorical_cols:\n",
    "    train_values[col] = train_values[col].astype(\"category\")"
   ]
  },
  {
   "cell_type": "code",
   "execution_count": 138,
   "metadata": {},
   "outputs": [],
   "source": [
    "for col in categorical_cols:\n",
    "    test_values[col] = test_values[col].astype(\"category\")"
   ]
  },
  {
   "cell_type": "code",
   "execution_count": 107,
   "metadata": {},
   "outputs": [],
   "source": [
    "# Convert the grade damage leve to an understandable value\n",
    "train_values[\"damage_grade\"] = train_values[\"damage_grade\"].map({1: 0, 2: 1, 3: 2})"
   ]
  },
  {
   "cell_type": "markdown",
   "metadata": {},
   "source": [
    "### Split data"
   ]
  },
  {
   "cell_type": "code",
   "execution_count": 108,
   "metadata": {},
   "outputs": [],
   "source": [
    "# gather feature and target data\n",
    "X_train, X_val, y_train, y_val = train_test_split(\n",
    "    train_values.drop(columns=[\"building_id\", \"damage_grade\"]),\n",
    "    train_values[\"damage_grade\"],\n",
    "    test_size=0.2,\n",
    "    random_state=42\n",
    ")"
   ]
  },
  {
   "cell_type": "code",
   "execution_count": 109,
   "metadata": {},
   "outputs": [
    {
     "name": "stdout",
     "output_type": "stream",
     "text": [
      "[1 2 0]\n"
     ]
    }
   ],
   "source": [
    "print(y_train.unique())"
   ]
  },
  {
   "cell_type": "code",
   "execution_count": 110,
   "metadata": {},
   "outputs": [
    {
     "name": "stdout",
     "output_type": "stream",
     "text": [
      "\n",
      "----------\n",
      "(208480, 38)\n",
      "(52121, 38)\n"
     ]
    },
    {
     "data": {
      "text/plain": [
       "True"
      ]
     },
     "execution_count": 110,
     "metadata": {},
     "output_type": "execute_result"
    }
   ],
   "source": [
    "#  test if the split was well done\n",
    "print(\"\\n----------\")\n",
    "print(X_train.shape)\n",
    "print(X_val.shape)\n",
    "X_train.shape[0] + X_val.shape[0] == train_values.shape[0]"
   ]
  },
  {
   "cell_type": "markdown",
   "metadata": {},
   "source": [
    "## Model"
   ]
  },
  {
   "cell_type": "markdown",
   "metadata": {},
   "source": [
    "### Baseline\n",
    "Stratified random"
   ]
  },
  {
   "cell_type": "code",
   "execution_count": 111,
   "metadata": {},
   "outputs": [
    {
     "name": "stdout",
     "output_type": "stream",
     "text": [
      "Majority Class Baseline Mico: 0.5657\n"
     ]
    }
   ],
   "source": [
    "# Baseline\n",
    "baseline = DummyClassifier(strategy=\"most_frequent\")\n",
    "baseline.fit(X_train, y_train)\n",
    "\n",
    "y_pred = baseline.predict(X_val)\n",
    "f1_micro = f1_score(y_val, y_pred, average=\"micro\")\n",
    "print(f\"Majority Class Baseline Mico: {f1_micro:.4f}\")"
   ]
  },
  {
   "cell_type": "markdown",
   "metadata": {},
   "source": [
    "### Build Model"
   ]
  },
  {
   "cell_type": "code",
   "execution_count": 112,
   "metadata": {},
   "outputs": [],
   "source": [
    "# define params\n",
    "params = {\n",
    "    \"objective\": \"multiclass\",\n",
    "    \"num_class\": 3,\n",
    "    \"metric\": \"multi_logloss\",\n",
    "    \"booting_type\": \"gbdt\",\n",
    "    \"learning_rate\": 0.05,\n",
    "    \"num_leaves\": 31,\n",
    "    \"n_jobs\": -1,\n",
    "    \"verbose\": -1\n",
    "}\n",
    "\n",
    "# Train\n",
    "model = lgb.train(\n",
    "    params,\n",
    "    lgb.Dataset(X_train, label=y_train),\n",
    "    num_boost_round=100\n",
    ")"
   ]
  },
  {
   "cell_type": "code",
   "execution_count": 114,
   "metadata": {},
   "outputs": [
    {
     "name": "stdout",
     "output_type": "stream",
     "text": [
      "LightGBM F1 Micro: 0.7388\n"
     ]
    }
   ],
   "source": [
    "# Make prediction on X_val data\n",
    "y_pred = model.predict(X_val).argmax(axis=1) + 1 # convert to 1/2/3\n",
    "\n",
    "f1_micro = f1_score(y_val + 1, y_pred, average=\"micro\") # Ensure the y_val is also 1,2,3\n",
    "print(f\"LightGBM F1 Micro: {f1_micro:.4f}\")"
   ]
  },
  {
   "cell_type": "markdown",
   "metadata": {},
   "source": [
    "### Tune with Optuna"
   ]
  },
  {
   "cell_type": "code",
   "execution_count": 117,
   "metadata": {},
   "outputs": [],
   "source": [
    "def objective(trial):\n",
    "    # Hyperparameters to tune\n",
    "    params = {\n",
    "        'objective': 'multiclass',\n",
    "        'num_class': 3,\n",
    "        'metric': 'multi_logloss',  # LightGBM's internal metric (not directly F1)\n",
    "        'learning_rate': trial.suggest_float('learning_rate', 0.01, 0.2),\n",
    "        'num_leaves': trial.suggest_int('num_leaves', 20, 100),\n",
    "        'max_depth': trial.suggest_int('max_depth', 3, 12),\n",
    "        'min_child_samples': trial.suggest_int('min_child_samples', 10, 50),\n",
    "        'subsample': trial.suggest_float('subsample', 0.6, 1.0),\n",
    "        'colsample_bytree': trial.suggest_float('colsample_bytree', 0.6, 1.0),\n",
    "        'reg_alpha': trial.suggest_float('reg_alpha', 0, 1),\n",
    "        'reg_lambda': trial.suggest_float('reg_lambda', 0, 1),\n",
    "        'random_state': 42,\n",
    "    }\n",
    "\n",
    "    model = lgb.LGBMClassifier(**params)\n",
    "\n",
    "    # Evaluate using cross validation + F1 score\n",
    "    scores = cross_val_score(\n",
    "        model,\n",
    "        X_train,\n",
    "        y_train,\n",
    "        cv=5, # 5-fold CV\n",
    "        scoring=\"f1_micro\", # Use micro_average F1\n",
    "        n_jobs=-1\n",
    "    )\n",
    "\n",
    "    # Return mean F1 score accross fold\n",
    "    return scores.mean()"
   ]
  },
  {
   "cell_type": "code",
   "execution_count": 119,
   "metadata": {},
   "outputs": [
    {
     "name": "stderr",
     "output_type": "stream",
     "text": [
      "[I 2025-03-26 21:13:18,369] A new study created in memory with name: no-name-b24bf873-8da2-4231-84b2-2edf56352b0a\n",
      "[I 2025-03-26 21:13:37,885] Trial 0 finished with value: 0.7366797774366846 and parameters: {'learning_rate': 0.027595982300157237, 'num_leaves': 41, 'max_depth': 3, 'min_child_samples': 48, 'subsample': 0.9317417635086909, 'colsample_bytree': 0.6126252561915962, 'reg_alpha': 0.7385016136212547, 'reg_lambda': 0.08810432940254953}. Best is trial 0 with value: 0.7366797774366846.\n",
      "[I 2025-03-26 21:13:52,833] Trial 1 finished with value: 0.7402244819646968 and parameters: {'learning_rate': 0.06163848367631515, 'num_leaves': 79, 'max_depth': 4, 'min_child_samples': 19, 'subsample': 0.6548900811776482, 'colsample_bytree': 0.9935358578149657, 'reg_alpha': 0.9267948491686745, 'reg_lambda': 0.33597982996735376}. Best is trial 1 with value: 0.7402244819646968.\n",
      "[I 2025-03-26 21:14:15,115] Trial 2 finished with value: 0.7426755564082886 and parameters: {'learning_rate': 0.1159002709712165, 'num_leaves': 75, 'max_depth': 11, 'min_child_samples': 33, 'subsample': 0.9117272767202609, 'colsample_bytree': 0.8572056940433789, 'reg_alpha': 0.615623676725329, 'reg_lambda': 0.5879625337208912}. Best is trial 2 with value: 0.7426755564082886.\n",
      "[I 2025-03-26 21:14:40,873] Trial 3 finished with value: 0.7421431312356102 and parameters: {'learning_rate': 0.10499138503314294, 'num_leaves': 65, 'max_depth': 9, 'min_child_samples': 24, 'subsample': 0.7698422293405163, 'colsample_bytree': 0.8219017196190568, 'reg_alpha': 0.435479907078377, 'reg_lambda': 0.9663211019731764}. Best is trial 2 with value: 0.7426755564082886.\n",
      "[I 2025-03-26 21:15:04,617] Trial 4 finished with value: 0.7419128933231006 and parameters: {'learning_rate': 0.05319999188423451, 'num_leaves': 47, 'max_depth': 10, 'min_child_samples': 39, 'subsample': 0.8399647712975382, 'colsample_bytree': 0.7130411059671382, 'reg_alpha': 0.4323155929586088, 'reg_lambda': 0.3926422895037921}. Best is trial 2 with value: 0.7426755564082886.\n"
     ]
    },
    {
     "name": "stdout",
     "output_type": "stream",
     "text": [
      "Best F1 Micro:  0.7426755564082886\n",
      "Best params:  {'learning_rate': 0.1159002709712165, 'num_leaves': 75, 'max_depth': 11, 'min_child_samples': 33, 'subsample': 0.9117272767202609, 'colsample_bytree': 0.8572056940433789, 'reg_alpha': 0.615623676725329, 'reg_lambda': 0.5879625337208912}\n"
     ]
    }
   ],
   "source": [
    "# run optuna optimization\n",
    "study = optuna.create_study(direction=\"maximize\")\n",
    "study.optimize(objective, n_trials=5)\n",
    "\n",
    "# Best Hyperperameters\n",
    "print(\"Best F1 Micro: \", study.best_value)\n",
    "print(\"Best params: \", study.best_params)"
   ]
  },
  {
   "cell_type": "code",
   "execution_count": 122,
   "metadata": {},
   "outputs": [
    {
     "name": "stdout",
     "output_type": "stream",
     "text": [
      "Best LightGBM F1 Micro: 0.7403\n"
     ]
    }
   ],
   "source": [
    "# Train the best model with full validation data\n",
    "best_model = lgb.LGBMClassifier(**study.best_params)\n",
    "best_model.fit(X_train, y_train)\n",
    "\n",
    "# Prediction on validation set\n",
    "y_pred = best_model.predict(X_val) + 1 # convert it to 1,2,3\n",
    "f1_micro = f1_score(y_val + 1, y_pred, average=\"micro\")\n",
    "print(f\"Best LightGBM F1 Micro: {f1_micro:.4f}\")"
   ]
  },
  {
   "cell_type": "code",
   "execution_count": 124,
   "metadata": {},
   "outputs": [
    {
     "data": {
      "text/plain": [
       "array([2, 2, 2, 2, 2, 2, 2, 2, 3, 3])"
      ]
     },
     "execution_count": 124,
     "metadata": {},
     "output_type": "execute_result"
    }
   ],
   "source": [
    "y_pred[:10]"
   ]
  },
  {
   "cell_type": "markdown",
   "metadata": {},
   "source": [
    "## Communicate Results"
   ]
  },
  {
   "cell_type": "code",
   "execution_count": 126,
   "metadata": {},
   "outputs": [
    {
     "data": {
      "image/png": "[encoded data removed]",
      "text/plain": [
       "<Figure size 640x480 with 2 Axes>"
      ]
     },
     "metadata": {},
     "output_type": "display_data"
    }
   ],
   "source": [
    "# visualize with confusion matrix\n",
    "cm  = confusion_matrix(y_val + 1, y_pred)\n",
    "disp = ConfusionMatrixDisplay(cm, display_labels=[1, 2, 3])\n",
    "disp.plot(cmap=\"Blues\")\n",
    "plt.title(\"Confusion Matrix (Best LightGBM)\");"
   ]
  },
  {
   "cell_type": "code",
   "execution_count": 127,
   "metadata": {},
   "outputs": [
    {
     "data": {
      "image/png": "[encoded data removed]",
      "text/plain": [
       "<Figure size 1000x600 with 1 Axes>"
      ]
     },
     "metadata": {},
     "output_type": "display_data"
    }
   ],
   "source": [
    "# Feature Importance\n",
    "lgb.plot_importance(best_model, importance_type=\"gain\", figsize=(10, 6))\n",
    "plt.title(\"Best LightGBM Feature Importance (Gain)\");"
   ]
  },
  {
   "cell_type": "markdown",
   "metadata": {},
   "source": [
    "### Summary Statement\n",
    "Our __tuned LightGBM model__ achieves an _F1 Micro_ of `0.7403`, a `30.9%` improvement over the _majority-class baseline_ `(0.5657)`. Key drivers include `geographic region (geo_level_id)`, `foundation type`, `ground floor type`, `building age`, and `roof type`. Future work could explore ensembles or addressing class imbalance."
   ]
  },
  {
   "cell_type": "markdown",
   "metadata": {},
   "source": [
    "### Error Analysis"
   ]
  },
  {
   "cell_type": "code",
   "execution_count": 129,
   "metadata": {},
   "outputs": [
    {
     "name": "stdout",
     "output_type": "stream",
     "text": [
      "              precision    recall  f1-score   support\n",
      "\n",
      "           1       0.69      0.47      0.56      5170\n",
      "           2       0.73      0.88      0.79     29487\n",
      "           3       0.79      0.59      0.68     17464\n",
      "\n",
      "    accuracy                           0.74     52121\n",
      "   macro avg       0.74      0.65      0.68     52121\n",
      "weighted avg       0.74      0.74      0.73     52121\n",
      "\n"
     ]
    }
   ],
   "source": [
    "# classification report\n",
    "y_true = (y_val + 1).reset_index(drop=True) # Ensure alignment\n",
    "\n",
    "# Classification report (precision/recall per class)\n",
    "print(classification_report(y_true, y_pred, target_names=[\"1\", \"2\", \"3\"]))"
   ]
  },
  {
   "cell_type": "code",
   "execution_count": 130,
   "metadata": {},
   "outputs": [
    {
     "name": "stdout",
     "output_type": "stream",
     "text": [
      "Severe errors (true=3 → pred=1): 235\n"
     ]
    }
   ],
   "source": [
    "# Create a DataFrame of errors\n",
    "val_df = X_val.copy()\n",
    "val_df['true_grade'] = y_true\n",
    "val_df['pred_grade'] = y_pred\n",
    "val_df['is_wrong'] = (y_true != y_pred)\n",
    "\n",
    "# Filter severe errors (e.g., true=3 predicted as 1)\n",
    "severe_errors = val_df[(val_df['true_grade'] == 3) & (val_df['pred_grade'] == 1)]\n",
    "print(f\"Severe errors (true=3 → pred=1): {len(severe_errors)}\")"
   ]
  },
  {
   "cell_type": "code",
   "execution_count": 132,
   "metadata": {},
   "outputs": [
    {
     "name": "stdout",
     "output_type": "stream",
     "text": [
      "                age  area_percentage  geo_level_3_id\n",
      "is_wrong                                            \n",
      "False     21.595954         8.014186        2.208722\n",
      "True      21.501282         8.163676        2.192603\n"
     ]
    }
   ],
   "source": [
    "# Compare feature distributions between errors and correct predictions\n",
    "error_analysis = val_df.groupby('is_wrong').agg({\n",
    "    'age': 'mean',\n",
    "    'area_percentage': 'mean',\n",
    "    'geo_level_3_id': 'mean'\n",
    "})\n",
    "print(error_analysis)"
   ]
  },
  {
   "cell_type": "code",
   "execution_count": 133,
   "metadata": {},
   "outputs": [
    {
     "data": {
      "image/png": "[encoded data removed]",
      "text/plain": [
       "<Figure size 640x480 with 1 Axes>"
      ]
     },
     "metadata": {},
     "output_type": "display_data"
    }
   ],
   "source": [
    "# Plot distribution of correct vs wrong\n",
    "sns.boxplot(data=val_df, x=\"is_wrong\", y=\"age\")\n",
    "plt.title(\"Age Distribution: Correct Vs. Wrong Prediction\");"
   ]
  },
  {
   "cell_type": "markdown",
   "metadata": {},
   "source": [
    "### Submission"
   ]
  },
  {
   "cell_type": "code",
   "execution_count": 135,
   "metadata": {},
   "outputs": [],
   "source": [
    "# Save model with pickle\n",
    "with open(\"lightgbm_damage_prediction.pkl\", \"wb\") as f:\n",
    "    pickle.dump(best_model, f)"
   ]
  },
  {
   "cell_type": "markdown",
   "metadata": {},
   "source": [
    "__Predict on full test data__"
   ]
  },
  {
   "cell_type": "code",
   "execution_count": 139,
   "metadata": {},
   "outputs": [],
   "source": [
    "test = test_values.drop(columns=\"building_id\")\n",
    "\n",
    "assert len(test) == 86868"
   ]
  },
  {
   "cell_type": "code",
   "execution_count": 145,
   "metadata": {},
   "outputs": [
    {
     "name": "stdout",
     "output_type": "stream",
     "text": [
      "Predictions shape: (86868,)\n"
     ]
    }
   ],
   "source": [
    "# Predict with test\n",
    "y_pred_test = best_model.predict(test) + 1\n",
    "print(f\"Predictions shape: {y_pred_test.shape}\") #must be '86868' (Rodriguez)"
   ]
  },
  {
   "cell_type": "code",
   "execution_count": 146,
   "metadata": {},
   "outputs": [],
   "source": [
    "# Save the prediction to csv\n",
    "df = pd.DataFrame({\n",
    "    \"building_id\": test_values[\"building_id\"],\n",
    "    \"damage_grade\": y_pred_test.astype(int)\n",
    "})\n",
    "\n",
    "df.to_csv(\"submission.csv\", index=False)"
   ]
  },
  {
   "cell_type": "code",
   "execution_count": 147,
   "metadata": {},
   "outputs": [
    {
     "data": {
      "application/vnd.microsoft.datawrangler.viewer.v0+json": {
       "columns": [
        {
         "name": "index",
         "rawType": "int64",
         "type": "integer"
        },
        {
         "name": "building_id",
         "rawType": "int64",
         "type": "integer"
        },
        {
         "name": "damage_grade",
         "rawType": "int64",
         "type": "integer"
        }
       ],
       "conversionMethod": "pd.DataFrame",
       "ref": "d5b12a99-6434-4c1f-b80a-426fe3f59b76",
       "rows": [
        [
         "0",
         "300051",
         "3"
        ],
        [
         "1",
         "99355",
         "2"
        ],
        [
         "2",
         "890251",
         "3"
        ],
        [
         "3",
         "745817",
         "2"
        ],
        [
         "4",
         "421793",
         "3"
        ]
       ],
       "shape": {
        "columns": 2,
        "rows": 5
       }
      },
      "text/html": [
       "<div>\n",
       "<style scoped>\n",
       "    .dataframe tbody tr th:only-of-type {\n",
       "        vertical-align: middle;\n",
       "    }\n",
       "\n",
       "    .dataframe tbody tr th {\n",
       "        vertical-align: top;\n",
       "    }\n",
       "\n",
       "    .dataframe thead th {\n",
       "        text-align: right;\n",
       "    }\n",
       "</style>\n",
       "<table border=\"1\" class=\"dataframe\">\n",
       "  <thead>\n",
       "    <tr style=\"text-align: right;\">\n",
       "      <th></th>\n",
       "      <th>building_id</th>\n",
       "      <th>damage_grade</th>\n",
       "    </tr>\n",
       "  </thead>\n",
       "  <tbody>\n",
       "    <tr>\n",
       "      <th>0</th>\n",
       "      <td>300051</td>\n",
       "      <td>3</td>\n",
       "    </tr>\n",
       "    <tr>\n",
       "      <th>1</th>\n",
       "      <td>99355</td>\n",
       "      <td>2</td>\n",
       "    </tr>\n",
       "    <tr>\n",
       "      <th>2</th>\n",
       "      <td>890251</td>\n",
       "      <td>3</td>\n",
       "    </tr>\n",
       "    <tr>\n",
       "      <th>3</th>\n",
       "      <td>745817</td>\n",
       "      <td>2</td>\n",
       "    </tr>\n",
       "    <tr>\n",
       "      <th>4</th>\n",
       "      <td>421793</td>\n",
       "      <td>3</td>\n",
       "    </tr>\n",
       "  </tbody>\n",
       "</table>\n",
       "</div>"
      ],
      "text/plain": [
       "   building_id  damage_grade\n",
       "0       300051             3\n",
       "1        99355             2\n",
       "2       890251             3\n",
       "3       745817             2\n",
       "4       421793             3"
      ]
     },
     "execution_count": 147,
     "metadata": {},
     "output_type": "execute_result"
    }
   ],
   "source": [
    "df.head()"
   ]
  },
  {
   "cell_type": "code",
   "execution_count": 149,
   "metadata": {},
   "outputs": [
    {
     "name": "stdout",
     "output_type": "stream",
     "text": [
      "Unique damag class: [3 2 1]\n",
      "<class 'pandas.core.frame.DataFrame'>\n",
      "RangeIndex: 86868 entries, 0 to 86867\n",
      "Data columns (total 2 columns):\n",
      " #   Column        Non-Null Count  Dtype\n",
      "---  ------        --------------  -----\n",
      " 0   building_id   86868 non-null  int64\n",
      " 1   damage_grade  86868 non-null  int64\n",
      "dtypes: int64(2)\n",
      "memory usage: 1.3 MB\n",
      "None\n"
     ]
    }
   ],
   "source": [
    "print(f\"Unique damag class: {df['damage_grade'].unique()}\")\n",
    "print(df.info())"
   ]
  }
 ],
 "metadata": {
  "kernelspec": {
   "display_name": "environ",
   "language": "python",
   "name": "python3"
  },
  "language_info": {
   "codemirror_mode": {
    "name": "ipython",
    "version": 3
   },
   "file_extension": ".py",
   "mimetype": "text/x-python",
   "name": "python",
   "nbconvert_exporter": "python",
   "pygments_lexer": "ipython3",
   "version": "3.11.7"
  }
 },
 "nbformat": 4,
 "nbformat_minor": 2
}
